{
 "cells": [
  {
   "cell_type": "code",
   "execution_count": 227,
   "metadata": {},
   "outputs": [],
   "source": [
    "import pandas as pd\n",
    "import pickle\n",
    "import re\n",
    "from  sklearn.ensemble import RandomForestClassifier\n",
    "import numpy as np\n",
    "import matplotlib.pyplot as plt\n",
    "from sklearn.utils import resample\n",
    "from datetime import *\n",
    "from statistics import mean\n",
    "from random import seed\n",
    "from random import randint"
   ]
  },
  {
   "cell_type": "code",
   "execution_count": 391,
   "metadata": {},
   "outputs": [],
   "source": [
    "df = pd.read_csv('chicago_data_frame.csv')\n",
    "df = df.set_index(['hotel_id', 'reviewer_id'])"
   ]
  },
  {
   "cell_type": "code",
   "execution_count": 392,
   "metadata": {},
   "outputs": [],
   "source": [
    "with open(\"reviews_file_chicago.txt\", \"rb\") as fp:   # Unpickling\n",
    "    review_count = pickle.load(fp)"
   ]
  },
  {
   "cell_type": "code",
   "execution_count": 312,
   "metadata": {},
   "outputs": [],
   "source": [
    "regex = r'<hotelUrl>\\n(.*?)\\n</hotelUrl>'\n",
    "unique_hotel_ids = set()\n",
    "for i in review_count:\n",
    "    hotel_name = re.search(regex, i)\n",
    "    hotel_name = hotel_name[1]\n",
    "    unique_hotel_ids.add(hotel_name)"
   ]
  },
  {
   "cell_type": "code",
   "execution_count": 313,
   "metadata": {},
   "outputs": [],
   "source": [
    "def convert_to_date(date):\n",
    "    ans = datetime.strptime(date, \"%b %d, %Y\")\n",
    "    return ans"
   ]
  },
  {
   "cell_type": "code",
   "execution_count": 314,
   "metadata": {},
   "outputs": [],
   "source": [
    "regex = r'<hotelUrl>\\n(.*?)\\n</hotelUrl>\\n[\\s\\S]+?\\n<helpfulness>\\n(.*?)\\n</helpfulness>'\n",
    "unique_hotel_ids = set()\n",
    "for i in review_count:\n",
    "    hotel_name = re.search(regex, i)\n",
    "    hotel_id = hotel_name[1]\n",
    "    helpful_score = (hotel_name[2]).split(' of ')\n",
    "    if (int(helpful_score[1])) > 4:\n",
    "        unique_hotel_ids.add(hotel_id)\n"
   ]
  },
  {
   "cell_type": "code",
   "execution_count": 315,
   "metadata": {},
   "outputs": [],
   "source": [
    "date_member_hotel = []\n",
    "obj = []\n",
    "count = 0\n",
    "date_member_hotel_regex = r'<memberUrl>\\n([\\s\\S]*?)\\n</memberUrl>\\n<hotelUrl>\\n([\\s\\S]*?)\\n</hotelUrl>\\n[\\s\\S]*?\\n<date>\\n(.*?)\\n</date>'\n",
    "for i in review_count:\n",
    "    matched = re.search(date_member_hotel_regex, i)\n",
    "    member = matched[1]\n",
    "    hotel = matched[2]\n",
    "    date = matched[3]\n",
    "    obj.append([hotel, member, date])"
   ]
  },
  {
   "cell_type": "code",
   "execution_count": 316,
   "metadata": {},
   "outputs": [],
   "source": [
    "rows_with_hotel_as_key = dict()\n",
    "\n",
    "for i in unique_hotel_ids:\n",
    "    if i in df.index.get_level_values('hotel_id'):\n",
    "        if i in rows_with_hotel_as_key:\n",
    "            rows_with_hotel_as_key[i] = pd.merge(rows_with_hotel_as_key[i], df.loc[[i]], how = 'right', on=['hotel_id', 'reviewer_id'])\n",
    "        else:\n",
    "            rows_with_hotel_as_key[i] = pd.DataFrame(df.loc[[i]])"
   ]
  },
  {
   "cell_type": "code",
   "execution_count": 317,
   "metadata": {},
   "outputs": [],
   "source": [
    "def removekey(d, key):\n",
    "    r = dict(d)\n",
    "    r.pop(key)\n",
    "    return r"
   ]
  },
  {
   "cell_type": "code",
   "execution_count": 318,
   "metadata": {},
   "outputs": [],
   "source": [
    "rows_with_hotel_as_key_culled_neg = dict()\n",
    "\n",
    "for i in rows_with_hotel_as_key:\n",
    "    if len(rows_with_hotel_as_key[i]) < 5:\n",
    "        continue\n",
    "    else:\n",
    "        neg = 0\n",
    "        for j,row in rows_with_hotel_as_key[i].iterrows():\n",
    "            if (row['ST1']) < 4:\n",
    "                neg+=1\n",
    "        if neg > 4:\n",
    "            rows_with_hotel_as_key_culled_neg[i] = rows_with_hotel_as_key[i]"
   ]
  },
  {
   "cell_type": "code",
   "execution_count": 319,
   "metadata": {},
   "outputs": [
    {
     "data": {
      "text/plain": [
       "103"
      ]
     },
     "execution_count": 319,
     "metadata": {},
     "output_type": "execute_result"
    }
   ],
   "source": [
    "len(rows_with_hotel_as_key_culled_neg)"
   ]
  },
  {
   "cell_type": "code",
   "execution_count": 320,
   "metadata": {},
   "outputs": [],
   "source": [
    "rows_with_hotel_as_key_culled_pos = dict()\n",
    "\n",
    "for i in rows_with_hotel_as_key:\n",
    "    if len(rows_with_hotel_as_key[i]) < 5:\n",
    "        continue\n",
    "    else:\n",
    "        pos = 0\n",
    "        for j,row in rows_with_hotel_as_key[i].iterrows():\n",
    "            if (row['ST1']) >= 4:\n",
    "                pos+=1\n",
    "        if pos > 4:\n",
    "            rows_with_hotel_as_key_culled_pos[i] = rows_with_hotel_as_key[i]"
   ]
  },
  {
   "cell_type": "code",
   "execution_count": 321,
   "metadata": {},
   "outputs": [
    {
     "data": {
      "text/plain": [
       "298"
      ]
     },
     "execution_count": 321,
     "metadata": {},
     "output_type": "execute_result"
    }
   ],
   "source": [
    "len(rows_with_hotel_as_key_culled_pos)"
   ]
  },
  {
   "cell_type": "code",
   "execution_count": 322,
   "metadata": {},
   "outputs": [],
   "source": [
    "x_train = pd.DataFrame(columns=df.columns)\n",
    "x_train = pd.DataFrame(columns=df.columns)\n",
    "x_train['hotel_id'] = ''\n",
    "x_train['reviewer_id'] = ''\n",
    "x_train = x_train.set_index(['hotel_id', 'reviewer_id'])"
   ]
  },
  {
   "cell_type": "code",
   "execution_count": 323,
   "metadata": {},
   "outputs": [
    {
     "name": "stderr",
     "output_type": "stream",
     "text": [
      "/anaconda3/lib/python3.7/site-packages/sklearn/ensemble/forest.py:245: FutureWarning: The default value of n_estimators will change from 10 in version 0.20 to 100 in 0.22.\n",
      "  \"10 in version 0.20 to 100 in 0.22.\", FutureWarning)\n"
     ]
    }
   ],
   "source": [
    "classifier = RandomForestClassifier()\n",
    "hotel_prediction = dict()\n",
    "y_pred = []\n",
    "y_test = []\n",
    "y_pred_df_neg = dict()\n",
    "for i in rows_with_hotel_as_key_culled_neg:\n",
    "    #create a dataframe I can use to train using leave one out approach\n",
    "    # i is the hotel we want to use to test the classifier which is trained using the other hotels\n",
    "    x_test = rows_with_hotel_as_key_culled_neg[i].copy()\n",
    "    y_train = []\n",
    "    x_train = pd.DataFrame(columns=df.columns)\n",
    "    for j in rows_with_hotel_as_key_culled_neg:\n",
    "        if i != j:\n",
    "            new_df = rows_with_hotel_as_key_culled_neg[j].copy()\n",
    "            x_train = pd.concat([x_train, new_df])\n",
    "    y_train = x_train.pop('helpful_of_not')\n",
    "    y_train = (y_train.to_frame()['helpful_of_not']).astype(str).astype(int)\n",
    "    classifier.fit(X=x_train.values, y=y_train.values)\n",
    "    y_test.append(x_test.pop('helpful_of_not'))\n",
    "    prediction = classifier.predict_proba(x_test)\n",
    "    y_pred_df_neg[x_test.index[0][0]] = pd.DataFrame(prediction, columns = ['not helpful', 'helpfulness'], index=x_test.index)\n"
   ]
  },
  {
   "cell_type": "code",
   "execution_count": 324,
   "metadata": {},
   "outputs": [],
   "source": [
    "for i in y_pred_df_neg:\n",
    "    y_pred_df_neg[i] = pd.merge(y_pred_df_neg[i], df, how = 'left', on=['hotel_id', 'reviewer_id'])"
   ]
  },
  {
   "cell_type": "code",
   "execution_count": 325,
   "metadata": {},
   "outputs": [],
   "source": [
    "y_pred_fin_neg = dict()\n",
    "\n",
    "for i in (y_pred_df_neg):\n",
    "    count =0\n",
    "    for j,row in y_pred_df_neg[i].iterrows():\n",
    "        y_pred_fin_neg[i] = y_pred_df_neg[i][y_pred_df_neg[i]['ST1'] < 4]"
   ]
  },
  {
   "cell_type": "code",
   "execution_count": 326,
   "metadata": {},
   "outputs": [
    {
     "name": "stderr",
     "output_type": "stream",
     "text": [
      "/anaconda3/lib/python3.7/site-packages/ipykernel_launcher.py:2: SettingWithCopyWarning: \n",
      "A value is trying to be set on a copy of a slice from a DataFrame\n",
      "\n",
      "See the caveats in the documentation: http://pandas.pydata.org/pandas-docs/stable/user_guide/indexing.html#returning-a-view-versus-a-copy\n",
      "  \n"
     ]
    }
   ],
   "source": [
    "for i in (y_pred_fin_neg):\n",
    "    y_pred_fin_neg[i].sort_values(by=['helpfulness'], inplace=True, ascending=False)"
   ]
  },
  {
   "cell_type": "code",
   "execution_count": 327,
   "metadata": {},
   "outputs": [],
   "source": [
    "neg_class_avg = []\n",
    "\n",
    "for i in (y_pred_fin_neg):\n",
    "    top = y_pred_fin_neg[i].iloc[0]\n",
    "    neg_class_avg.append((top['helpfulness']))"
   ]
  },
  {
   "cell_type": "code",
   "execution_count": 328,
   "metadata": {},
   "outputs": [],
   "source": [
    "neg_class_total = []\n",
    "\n",
    "for i in (y_pred_fin_neg):\n",
    "    top = y_pred_fin_neg[i].iloc[0]\n",
    "    helpful = (top['helpfulness'])\n",
    "    if helpful >= 0.5:\n",
    "        neg_class_total.append(1)\n",
    "    else:\n",
    "        neg_class_total.append(0)"
   ]
  },
  {
   "cell_type": "code",
   "execution_count": 329,
   "metadata": {},
   "outputs": [
    {
     "data": {
      "text/plain": [
       "0.8912621359223301"
      ]
     },
     "execution_count": 329,
     "metadata": {},
     "output_type": "execute_result"
    }
   ],
   "source": [
    "mean(neg_class_avg)"
   ]
  },
  {
   "cell_type": "code",
   "execution_count": 330,
   "metadata": {},
   "outputs": [
    {
     "data": {
      "text/plain": [
       "0.9902912621359223"
      ]
     },
     "execution_count": 330,
     "metadata": {},
     "output_type": "execute_result"
    }
   ],
   "source": [
    "mean(neg_class_total)"
   ]
  },
  {
   "cell_type": "code",
   "execution_count": null,
   "metadata": {},
   "outputs": [],
   "source": []
  },
  {
   "cell_type": "code",
   "execution_count": 331,
   "metadata": {},
   "outputs": [],
   "source": [
    "x_train_pos = pd.DataFrame(columns=df.columns)\n",
    "x_train_pos = pd.DataFrame(columns=df.columns)\n",
    "x_train_pos['hotel_id'] = ''\n",
    "x_train_pos['reviewer_id'] = ''\n",
    "x_train_pos = x_train_pos.set_index(['hotel_id', 'reviewer_id'])"
   ]
  },
  {
   "cell_type": "code",
   "execution_count": 332,
   "metadata": {},
   "outputs": [],
   "source": [
    "classifier = RandomForestClassifier(n_estimators=39, max_depth=20)\n",
    "hotel_prediction = dict()\n",
    "y_pred = []\n",
    "y_test = []\n",
    "y_pred_df_pos = dict()\n",
    "for i in rows_with_hotel_as_key_culled_pos:\n",
    "    #create a dataframe I can use to train using leave one out approach\n",
    "    # i is the hotel we want to use to test the classifier which is trained using the other hotels\n",
    "    x_test = rows_with_hotel_as_key_culled_pos[i].copy()\n",
    "    y_train = []\n",
    "    x_train = pd.DataFrame(columns=df.columns)\n",
    "    for j in rows_with_hotel_as_key_culled_pos:\n",
    "        if i != j:\n",
    "            new_df = rows_with_hotel_as_key_culled_pos[j].copy()\n",
    "            x_train_pos = pd.concat([x_train, new_df])\n",
    "    y_train_pos = x_train_pos.pop('helpful_of_not')\n",
    "    y_train = (y_train_pos.to_frame()['helpful_of_not']).astype(str).astype(int)\n",
    "    classifier.fit(X=x_train_pos.values, y=y_train.values)\n",
    "    y_test.append(x_test.pop('helpful_of_not'))\n",
    "    prediction = classifier.predict_proba(x_test)\n",
    "    y_pred_df_pos[x_test.index[0][0]] = pd.DataFrame(prediction, columns = ['not helpful', 'helpfulness'], index=x_test.index)\n",
    "    "
   ]
  },
  {
   "cell_type": "code",
   "execution_count": 333,
   "metadata": {},
   "outputs": [],
   "source": [
    "for i in y_pred_df_pos:\n",
    "    y_pred_df_pos[i] = pd.merge(y_pred_df_pos[i], df, how = 'left', on=['hotel_id', 'reviewer_id'])"
   ]
  },
  {
   "cell_type": "code",
   "execution_count": 334,
   "metadata": {},
   "outputs": [],
   "source": [
    "y_pred_fin_pos = dict()\n",
    "\n",
    "for i in (y_pred_df_pos):\n",
    "    count =0\n",
    "    for j,row in y_pred_df_pos[i].iterrows():\n",
    "        y_pred_fin_pos[i] = y_pred_df_pos[i][y_pred_df_pos[i]['ST1'] >= 4]"
   ]
  },
  {
   "cell_type": "code",
   "execution_count": 335,
   "metadata": {},
   "outputs": [
    {
     "name": "stderr",
     "output_type": "stream",
     "text": [
      "/anaconda3/lib/python3.7/site-packages/ipykernel_launcher.py:2: SettingWithCopyWarning: \n",
      "A value is trying to be set on a copy of a slice from a DataFrame\n",
      "\n",
      "See the caveats in the documentation: http://pandas.pydata.org/pandas-docs/stable/user_guide/indexing.html#returning-a-view-versus-a-copy\n",
      "  \n"
     ]
    }
   ],
   "source": [
    "for i in (y_pred_fin_pos):\n",
    "    y_pred_fin_pos[i].sort_values(by=['helpfulness'], inplace=True, ascending=False)"
   ]
  },
  {
   "cell_type": "code",
   "execution_count": 336,
   "metadata": {},
   "outputs": [],
   "source": [
    "pos_class_avg = []\n",
    "\n",
    "for i in (y_pred_fin_pos):\n",
    "    top = y_pred_fin_pos[i].iloc[0]\n",
    "    pos_class_avg.append((top['helpfulness']))"
   ]
  },
  {
   "cell_type": "code",
   "execution_count": 337,
   "metadata": {},
   "outputs": [],
   "source": [
    "pos_class_total = []\n",
    "\n",
    "for i in (y_pred_fin_pos):\n",
    "    top = y_pred_fin_pos[i].iloc[0]\n",
    "    helpful = (top['helpfulness'])\n",
    "    if helpful >= 0.5:\n",
    "        pos_class_total.append(1)\n",
    "    else:\n",
    "        pos_class_total.append(0)"
   ]
  },
  {
   "cell_type": "code",
   "execution_count": 338,
   "metadata": {},
   "outputs": [
    {
     "data": {
      "text/plain": [
       "0.6270005162622613"
      ]
     },
     "execution_count": 338,
     "metadata": {},
     "output_type": "execute_result"
    }
   ],
   "source": [
    "mean(pos_class_avg)"
   ]
  },
  {
   "cell_type": "code",
   "execution_count": 339,
   "metadata": {},
   "outputs": [
    {
     "data": {
      "text/plain": [
       "0.697986577181208"
      ]
     },
     "execution_count": 339,
     "metadata": {},
     "output_type": "execute_result"
    }
   ],
   "source": [
    "mean(pos_class_total)"
   ]
  },
  {
   "cell_type": "code",
   "execution_count": null,
   "metadata": {},
   "outputs": [],
   "source": []
  },
  {
   "cell_type": "markdown",
   "metadata": {},
   "source": [
    "# Date Negative Mean Review Helpfulness"
   ]
  },
  {
   "cell_type": "code",
   "execution_count": 340,
   "metadata": {},
   "outputs": [
    {
     "name": "stderr",
     "output_type": "stream",
     "text": [
      "/anaconda3/lib/python3.7/site-packages/ipykernel_launcher.py:2: SettingWithCopyWarning: \n",
      "A value is trying to be set on a copy of a slice from a DataFrame.\n",
      "Try using .loc[row_indexer,col_indexer] = value instead\n",
      "\n",
      "See the caveats in the documentation: http://pandas.pydata.org/pandas-docs/stable/user_guide/indexing.html#returning-a-view-versus-a-copy\n",
      "  \n"
     ]
    }
   ],
   "source": [
    "for i in y_pred_fin_neg:\n",
    "    y_pred_fin_neg[i]['date'] = ''"
   ]
  },
  {
   "cell_type": "code",
   "execution_count": 341,
   "metadata": {},
   "outputs": [
    {
     "name": "stderr",
     "output_type": "stream",
     "text": [
      "/anaconda3/lib/python3.7/site-packages/ipykernel_launcher.py:6: FutureWarning: set_value is deprecated and will be removed in a future release. Please use .at[] or .iat[] accessors instead\n",
      "  \n",
      "/anaconda3/lib/python3.7/site-packages/pandas/core/indexing.py:494: SettingWithCopyWarning: \n",
      "A value is trying to be set on a copy of a slice from a DataFrame.\n",
      "Try using .loc[row_indexer,col_indexer] = value instead\n",
      "\n",
      "See the caveats in the documentation: http://pandas.pydata.org/pandas-docs/stable/user_guide/indexing.html#returning-a-view-versus-a-copy\n",
      "  self.obj[item] = s\n",
      "/anaconda3/lib/python3.7/site-packages/ipykernel/zmqshell.py:536: PerformanceWarning: indexing past lexsort depth may impact performance.\n",
      "  return super(ZMQInteractiveShell, self).run_cell(*args, **kwargs)\n"
     ]
    }
   ],
   "source": [
    "for j in y_pred_fin_neg:\n",
    "    for i in obj: \n",
    "        test_tuple = tuple([i[0],i[1]])\n",
    "        if test_tuple in y_pred_fin_neg[j].index:\n",
    "            date = convert_to_date(i[2])\n",
    "            y_pred_fin_neg[j].set_value(y_pred_fin_neg[j].loc[[test_tuple]].index,'date',  date)"
   ]
  },
  {
   "cell_type": "code",
   "execution_count": 342,
   "metadata": {},
   "outputs": [
    {
     "name": "stderr",
     "output_type": "stream",
     "text": [
      "/anaconda3/lib/python3.7/site-packages/ipykernel_launcher.py:2: SettingWithCopyWarning: \n",
      "A value is trying to be set on a copy of a slice from a DataFrame\n",
      "\n",
      "See the caveats in the documentation: http://pandas.pydata.org/pandas-docs/stable/user_guide/indexing.html#returning-a-view-versus-a-copy\n",
      "  \n"
     ]
    }
   ],
   "source": [
    "for i in (y_pred_fin_neg):\n",
    "    y_pred_fin_neg[i].sort_values(by=['date'], inplace=True, ascending=False)"
   ]
  },
  {
   "cell_type": "code",
   "execution_count": 343,
   "metadata": {},
   "outputs": [],
   "source": [
    "hold = y_pred_fin_neg.copy()\n",
    "for i in hold:\n",
    "    if len(hold[i]) < 1:\n",
    "        del y_pred_fin_neg[i]"
   ]
  },
  {
   "cell_type": "code",
   "execution_count": 344,
   "metadata": {},
   "outputs": [],
   "source": [
    "values_helpful_of_not_neg = df['helpful_of_not']"
   ]
  },
  {
   "cell_type": "code",
   "execution_count": 345,
   "metadata": {},
   "outputs": [],
   "source": [
    "for i in y_pred_fin_neg:\n",
    "    y_pred_fin_neg[i] = pd.merge(y_pred_fin_neg[i], values_helpful_of_not_neg, how = 'left', on=['hotel_id', 'reviewer_id'])"
   ]
  },
  {
   "cell_type": "code",
   "execution_count": 346,
   "metadata": {},
   "outputs": [],
   "source": [
    "for i in y_pred_fin_neg:\n",
    "    y_pred_fin_neg[i] = pd.merge(y_pred_fin_neg[i], values_helpful_of_not_neg, how = 'left', on=['hotel_id', 'reviewer_id'])"
   ]
  },
  {
   "cell_type": "code",
   "execution_count": 347,
   "metadata": {},
   "outputs": [],
   "source": [
    "for i in (y_pred_fin_neg):\n",
    "    y_pred_fin_neg[i].sort_values(by=['date'], inplace=True, ascending=False)"
   ]
  },
  {
   "cell_type": "code",
   "execution_count": 348,
   "metadata": {},
   "outputs": [],
   "source": [
    "total = []\n",
    "for i in (y_pred_fin_neg):\n",
    "    top = (y_pred_fin_neg[i].iloc[0])['helpful_of_not']\n",
    "    total.append(top)\n",
    "\n",
    "total_fin = list(map(int, total))"
   ]
  },
  {
   "cell_type": "code",
   "execution_count": 349,
   "metadata": {},
   "outputs": [
    {
     "data": {
      "text/plain": [
       "0.34951456310679613"
      ]
     },
     "execution_count": 349,
     "metadata": {},
     "output_type": "execute_result"
    }
   ],
   "source": [
    "mean(total_fin)"
   ]
  },
  {
   "cell_type": "code",
   "execution_count": null,
   "metadata": {},
   "outputs": [],
   "source": []
  },
  {
   "cell_type": "markdown",
   "metadata": {},
   "source": [
    "# Positive Date Mean Review Helpfulness"
   ]
  },
  {
   "cell_type": "code",
   "execution_count": 350,
   "metadata": {},
   "outputs": [
    {
     "name": "stderr",
     "output_type": "stream",
     "text": [
      "/anaconda3/lib/python3.7/site-packages/ipykernel_launcher.py:2: SettingWithCopyWarning: \n",
      "A value is trying to be set on a copy of a slice from a DataFrame.\n",
      "Try using .loc[row_indexer,col_indexer] = value instead\n",
      "\n",
      "See the caveats in the documentation: http://pandas.pydata.org/pandas-docs/stable/user_guide/indexing.html#returning-a-view-versus-a-copy\n",
      "  \n"
     ]
    }
   ],
   "source": [
    "for i in y_pred_fin_pos:\n",
    "    y_pred_fin_pos[i]['date'] = ''"
   ]
  },
  {
   "cell_type": "code",
   "execution_count": 351,
   "metadata": {},
   "outputs": [
    {
     "name": "stderr",
     "output_type": "stream",
     "text": [
      "/anaconda3/lib/python3.7/site-packages/ipykernel_launcher.py:6: FutureWarning: set_value is deprecated and will be removed in a future release. Please use .at[] or .iat[] accessors instead\n",
      "  \n"
     ]
    }
   ],
   "source": [
    "for j in y_pred_fin_pos:\n",
    "    for i in obj: \n",
    "        test_tuple = tuple([i[0],i[1]])\n",
    "        if test_tuple in y_pred_fin_pos[j].index:\n",
    "            date = convert_to_date(i[2])\n",
    "            y_pred_fin_pos[j].set_value(y_pred_fin_pos[j].loc[[test_tuple]].index,'date',  date)"
   ]
  },
  {
   "cell_type": "code",
   "execution_count": 352,
   "metadata": {},
   "outputs": [
    {
     "name": "stderr",
     "output_type": "stream",
     "text": [
      "/anaconda3/lib/python3.7/site-packages/ipykernel_launcher.py:2: SettingWithCopyWarning: \n",
      "A value is trying to be set on a copy of a slice from a DataFrame\n",
      "\n",
      "See the caveats in the documentation: http://pandas.pydata.org/pandas-docs/stable/user_guide/indexing.html#returning-a-view-versus-a-copy\n",
      "  \n"
     ]
    }
   ],
   "source": [
    "for i in (y_pred_fin_pos):\n",
    "    y_pred_fin_pos[i].sort_values(by=['date'], inplace=True, ascending=False)"
   ]
  },
  {
   "cell_type": "code",
   "execution_count": 353,
   "metadata": {},
   "outputs": [],
   "source": [
    "hold = y_pred_fin_pos.copy()\n",
    "for i in hold:\n",
    "    if len(hold[i]) < 1:\n",
    "        del y_pred_fin_pos[i]"
   ]
  },
  {
   "cell_type": "code",
   "execution_count": 354,
   "metadata": {},
   "outputs": [],
   "source": [
    "values_helpful_of_not_pos = df['helpful_of_not']"
   ]
  },
  {
   "cell_type": "code",
   "execution_count": 355,
   "metadata": {},
   "outputs": [],
   "source": [
    "for i in y_pred_fin_pos:\n",
    "    y_pred_fin_pos[i] = pd.merge(y_pred_fin_pos[i], values_helpful_of_not_pos, how = 'left', on=['hotel_id', 'reviewer_id'])"
   ]
  },
  {
   "cell_type": "code",
   "execution_count": 356,
   "metadata": {},
   "outputs": [],
   "source": [
    "for i in y_pred_fin_pos:\n",
    "    y_pred_fin_pos[i] = pd.merge(y_pred_fin_pos[i], values_helpful_of_not_pos, how = 'left', on=['hotel_id', 'reviewer_id'])"
   ]
  },
  {
   "cell_type": "code",
   "execution_count": 357,
   "metadata": {},
   "outputs": [],
   "source": [
    "for i in (y_pred_fin_pos):\n",
    "    y_pred_fin_pos[i].sort_values(by=['date'], inplace=True, ascending=False)"
   ]
  },
  {
   "cell_type": "code",
   "execution_count": 358,
   "metadata": {},
   "outputs": [],
   "source": [
    "total = []\n",
    "for i in (y_pred_fin_pos):\n",
    "    top = (y_pred_fin_pos[i].iloc[0])['helpful_of_not']\n",
    "    total.append(top)\n",
    "\n",
    "total_fin = list(map(int, total))"
   ]
  },
  {
   "cell_type": "code",
   "execution_count": 359,
   "metadata": {},
   "outputs": [
    {
     "data": {
      "text/plain": [
       "0.5134228187919463"
      ]
     },
     "execution_count": 359,
     "metadata": {},
     "output_type": "execute_result"
    }
   ],
   "source": [
    "mean(total_fin)"
   ]
  },
  {
   "cell_type": "code",
   "execution_count": null,
   "metadata": {},
   "outputs": [],
   "source": []
  },
  {
   "cell_type": "markdown",
   "metadata": {},
   "source": [
    "# Random Negative Percentage of recommended reviews that are helpful"
   ]
  },
  {
   "cell_type": "code",
   "execution_count": 360,
   "metadata": {},
   "outputs": [],
   "source": [
    "for i in y_pred_fin_neg:\n",
    "    del y_pred_fin_neg[i]['date']"
   ]
  },
  {
   "cell_type": "code",
   "execution_count": 361,
   "metadata": {},
   "outputs": [],
   "source": [
    "for i in y_pred_fin_neg:\n",
    "    rand_int = randint(0,len(y_pred_fin_neg[i])-1)\n",
    "    top = (y_pred_fin_neg[i].iloc[rand_int])['helpful_of_not']\n",
    "    total.append(top)"
   ]
  },
  {
   "cell_type": "code",
   "execution_count": 362,
   "metadata": {},
   "outputs": [],
   "source": [
    "total_fin_neg = list(map(int, total))"
   ]
  },
  {
   "cell_type": "code",
   "execution_count": 363,
   "metadata": {},
   "outputs": [
    {
     "data": {
      "text/plain": [
       "0.4912718204488778"
      ]
     },
     "execution_count": 363,
     "metadata": {},
     "output_type": "execute_result"
    }
   ],
   "source": [
    "mean(total_fin_neg)"
   ]
  },
  {
   "cell_type": "code",
   "execution_count": 364,
   "metadata": {},
   "outputs": [
    {
     "data": {
      "text/plain": [
       "hotel_id                                                                                                                       reviewer_id                                              \n",
       "/Hotel_Review-g294212-d302012-Reviews-Grand_Hotel_Beijing-Beijing.html                                                         /members-reviews/UpperWestSiderGuy                           0\n",
       "http://las-vegas-hotels.tripadvisor.com/Hotel_Review-g45963-d91816-Reviews-Four_Queens_Hotel_and_Casino-Las_Vegas_Nevada.html  /members-reviews/Canuckscout                                 0\n",
       "/Hotel_Review-g37209-d111623-Reviews-Embassy_Suites_Hotel_Indianapolis_North-Indianapolis_Indiana.html                         /members-reviews/slags68                                     0\n",
       "/Hotel_Review-g47042-d92830-Reviews-Royal_Holiday_Motel-Gallup_New_Mexico.html                                                 /members-reviews/notaheiress                                 0\n",
       "/Hotel_Review-g187497-d501108-Reviews-AC_Barcelona-Barcelona_Catalonia.html                                                    /members-reviews/gallaron                                    0\n",
       "                                                                                                                                                                                           ..\n",
       "/Hotel_Review-g186338-d278540-Reviews-Grand_Plaza_Serviced_Apartments-London_England.html                                      /members-reviews/Lady_Dee                                    1\n",
       "/Hotel_Review-g31353-d562615-Reviews-Stagecoach_66_Motel-Seligman_Arizona.html                                                 /members-reviews/FromTheBu                                   1\n",
       "http://las-vegas-hotels.tripadvisor.com/Hotel_Review-g45963-d296425-Reviews-Summer_Bay_Resort_Las_Vegas-Las_Vegas_Nevada.html  /MemberProfile-ccu-a_uid.4D91CCC4E70895F78F9F1367C0393376    1\n",
       "http://las-vegas-hotels.tripadvisor.com/Hotel_Review-g45963-d111709-Reviews-Luxor_Las_Vegas-Las_Vegas_Nevada.html              /members-reviews/DonaldDinCanada                             1\n",
       "/Hotel_Review-g32655-d77274-Reviews-Hollywood_Roosevelt_Hotel-Los_Angeles_California.html                                      /members-reviews/fatboyonadiet                               1\n",
       "Name: helpful_of_not, Length: 25038, dtype: int64"
      ]
     },
     "execution_count": 364,
     "metadata": {},
     "output_type": "execute_result"
    }
   ],
   "source": [
    "df.pop('helpful_of_not')"
   ]
  },
  {
   "cell_type": "code",
   "execution_count": 365,
   "metadata": {},
   "outputs": [],
   "source": [
    "vals_df = pd.read_csv('vals_df.csv')"
   ]
  },
  {
   "cell_type": "code",
   "execution_count": 366,
   "metadata": {},
   "outputs": [],
   "source": [
    "vals_df = vals_df.set_index(['hotel_id', 'reviewer_id'])"
   ]
  },
  {
   "cell_type": "code",
   "execution_count": 367,
   "metadata": {},
   "outputs": [],
   "source": [
    "df = pd.merge(vals_df, df, how = 'left', on=['hotel_id', 'reviewer_id'])"
   ]
  },
  {
   "cell_type": "code",
   "execution_count": 368,
   "metadata": {},
   "outputs": [],
   "source": [
    "rows_with_hotel_as_key = dict()\n",
    "\n",
    "for i in unique_hotel_ids:\n",
    "    if i in df.index.get_level_values('hotel_id'):\n",
    "        if i in rows_with_hotel_as_key:\n",
    "            rows_with_hotel_as_key[i] = pd.merge(rows_with_hotel_as_key[i], df.loc[[i]], how = 'right', on=['hotel_id', 'reviewer_id'])\n",
    "        else:\n",
    "            rows_with_hotel_as_key[i] = pd.DataFrame(df.loc[[i]])"
   ]
  },
  {
   "cell_type": "code",
   "execution_count": 369,
   "metadata": {},
   "outputs": [],
   "source": [
    "rows_with_hotel_as_key_culled_neg = dict()\n",
    "\n",
    "for i in rows_with_hotel_as_key:\n",
    "    if len(rows_with_hotel_as_key[i]) < 5:\n",
    "        continue\n",
    "    else:\n",
    "        neg = 0\n",
    "        for j,row in rows_with_hotel_as_key[i].iterrows():\n",
    "            if (row['ST1']) < 4:\n",
    "                neg+=1\n",
    "        if neg > 4:\n",
    "            rows_with_hotel_as_key_culled_neg[i] = rows_with_hotel_as_key[i]"
   ]
  },
  {
   "cell_type": "code",
   "execution_count": 370,
   "metadata": {},
   "outputs": [],
   "source": [
    "for i in y_pred_fin_neg:\n",
    "    y_pred_fin_neg[i]['date'] = ''"
   ]
  },
  {
   "cell_type": "code",
   "execution_count": 371,
   "metadata": {},
   "outputs": [
    {
     "name": "stderr",
     "output_type": "stream",
     "text": [
      "/anaconda3/lib/python3.7/site-packages/ipykernel_launcher.py:6: FutureWarning: set_value is deprecated and will be removed in a future release. Please use .at[] or .iat[] accessors instead\n",
      "  \n"
     ]
    }
   ],
   "source": [
    "for j in y_pred_fin_neg:\n",
    "    for i in obj: \n",
    "        test_tuple = tuple([i[0],i[1]])\n",
    "        if test_tuple in y_pred_fin_neg[j].index:\n",
    "            date = convert_to_date(i[2])\n",
    "            y_pred_fin_neg[j].set_value(y_pred_fin_neg[j].loc[[test_tuple]].index,'date',  date)"
   ]
  },
  {
   "cell_type": "code",
   "execution_count": 372,
   "metadata": {},
   "outputs": [],
   "source": [
    "for i in (y_pred_fin_neg):\n",
    "    y_pred_fin_neg[i].sort_values(by=['date'], inplace=True, ascending=False)"
   ]
  },
  {
   "cell_type": "code",
   "execution_count": 373,
   "metadata": {},
   "outputs": [],
   "source": [
    "total = []\n",
    "for i in (y_pred_fin_neg):\n",
    "    top = (y_pred_fin_neg[i].iloc[0])['helpfulness']\n",
    "    total.append(top)"
   ]
  },
  {
   "cell_type": "code",
   "execution_count": 374,
   "metadata": {},
   "outputs": [
    {
     "name": "stdout",
     "output_type": "stream",
     "text": [
      "<class 'list'>\n"
     ]
    }
   ],
   "source": [
    "print(type(total))\n",
    "total_fin = list(map(float, total))"
   ]
  },
  {
   "cell_type": "code",
   "execution_count": 375,
   "metadata": {},
   "outputs": [
    {
     "data": {
      "text/plain": [
       "0.40194174757281553"
      ]
     },
     "execution_count": 375,
     "metadata": {},
     "output_type": "execute_result"
    }
   ],
   "source": [
    "mean(total_fin)"
   ]
  },
  {
   "cell_type": "markdown",
   "metadata": {},
   "source": [
    "# Random Positive Percentage of recommended reviews that are helpful"
   ]
  },
  {
   "cell_type": "code",
   "execution_count": 376,
   "metadata": {},
   "outputs": [],
   "source": [
    "for i in y_pred_fin_pos:\n",
    "    rand_int = randint(0,len(y_pred_fin_pos[i])-1)\n",
    "    top = (y_pred_fin_pos[i].iloc[rand_int])['helpful_of_not']\n",
    "    total.append(top)"
   ]
  },
  {
   "cell_type": "code",
   "execution_count": 377,
   "metadata": {},
   "outputs": [],
   "source": [
    "total_fin_pos = list(map(int, total))"
   ]
  },
  {
   "cell_type": "code",
   "execution_count": 378,
   "metadata": {},
   "outputs": [
    {
     "data": {
      "text/plain": [
       "0.45885286783042395"
      ]
     },
     "execution_count": 378,
     "metadata": {},
     "output_type": "execute_result"
    }
   ],
   "source": [
    "mean(total_fin_pos)"
   ]
  },
  {
   "cell_type": "code",
   "execution_count": 379,
   "metadata": {},
   "outputs": [
    {
     "data": {
      "text/plain": [
       "hotel_id                                                                                                                reviewer_id                 \n",
       "/Hotel_Review-g42881-d90408-Reviews-Embassy_Suites_Minneapolis_Airport-Bloomington_Minnesota.html                       /members-reviews/sungoddess3    1.000000\n",
       "http://cancun-hotels.tripadvisor.com/Hotel_Review-g150807-d185322-Reviews-Riu_Caribe-Cancun_Yucatan_Peninsula.html      /members-reviews/sungoddess3    1.000000\n",
       "/Hotel_Review-g33116-d81632-Reviews-Comfort_Inn_Suites_San_Francisco_Airport_North-South_San_Francisco_California.html  /members-reviews/sungoddess3    1.000000\n",
       "/Hotel_Review-g274887-d276600-Reviews-Art_otel_budapest_by_park_plaza-Budapest.html                                     /members-reviews/europa00       0.000000\n",
       "/Hotel_Review-g35790-d90819-Reviews-Fairfield_Inn_Champaign-Champaign_Illinois.html                                     /members-reviews/europa00       0.000000\n",
       "                                                                                                                                                          ...   \n",
       "/Hotel_Review-g187069-d191535-Reviews-Novotel_Manchester_West-Manchester_Greater_Manchester_England.html                /members-reviews/Bindoon        1.000000\n",
       "/Hotel_Review-g187175-d196897-Reviews-Appart_Valley_Toulouse_Centre-Toulouse_Midi_Pyrenees.html                         /members-reviews/Bindoon        0.909091\n",
       "/Hotel_Review-g635836-d321019-Reviews-Grand_Hotel_des_Lecques-Saint_Cyr_sur_mer_Provence.html                           /members-reviews/Bindoon        1.000000\n",
       "/Hotel_Review-g187265-d259392-Reviews-Campanile_Lyon_Centre_Perrache-Lyon_Rhone_Alpes.html                              /members-reviews/Bindoon        0.833333\n",
       "/Hotel_Review-g187111-d219303-Reviews-Hotel_Le_Jacquemart-Dijon_Burgundy.html                                           /members-reviews/Bindoon        0.727273\n",
       "Name: helpful_of_not, Length: 14090, dtype: float64"
      ]
     },
     "execution_count": 379,
     "metadata": {},
     "output_type": "execute_result"
    }
   ],
   "source": [
    "df.pop('helpful_of_not')"
   ]
  },
  {
   "cell_type": "code",
   "execution_count": 380,
   "metadata": {},
   "outputs": [],
   "source": [
    "vals_df = pd.read_csv('vals_df.csv')"
   ]
  },
  {
   "cell_type": "code",
   "execution_count": 381,
   "metadata": {},
   "outputs": [],
   "source": [
    "vals_df = vals_df.set_index(['hotel_id', 'reviewer_id'])"
   ]
  },
  {
   "cell_type": "code",
   "execution_count": 382,
   "metadata": {},
   "outputs": [],
   "source": [
    "df = pd.merge(vals_df, df, how = 'left', on=['hotel_id', 'reviewer_id'])"
   ]
  },
  {
   "cell_type": "code",
   "execution_count": 383,
   "metadata": {},
   "outputs": [],
   "source": [
    "rows_with_hotel_as_key = dict()\n",
    "\n",
    "for i in unique_hotel_ids:\n",
    "    if i in df.index.get_level_values('hotel_id'):\n",
    "        if i in rows_with_hotel_as_key:\n",
    "            rows_with_hotel_as_key[i] = pd.merge(rows_with_hotel_as_key[i], df.loc[[i]], how = 'right', on=['hotel_id', 'reviewer_id'])\n",
    "        else:\n",
    "            rows_with_hotel_as_key[i] = pd.DataFrame(df.loc[[i]])"
   ]
  },
  {
   "cell_type": "code",
   "execution_count": 384,
   "metadata": {},
   "outputs": [],
   "source": [
    "rows_with_hotel_as_key_culled_pos = dict()\n",
    "\n",
    "for i in rows_with_hotel_as_key:\n",
    "    if len(rows_with_hotel_as_key[i]) < 5:\n",
    "        continue\n",
    "    else:\n",
    "        pos = 0\n",
    "        for j,row in rows_with_hotel_as_key[i].iterrows():\n",
    "            if (row['ST1']) >= 4:\n",
    "                pos+=1\n",
    "        if pos > 4:\n",
    "            rows_with_hotel_as_key_culled_pos[i] = rows_with_hotel_as_key[i]"
   ]
  },
  {
   "cell_type": "code",
   "execution_count": 385,
   "metadata": {},
   "outputs": [],
   "source": [
    "for i in y_pred_fin_pos:\n",
    "    y_pred_fin_pos[i]['date'] = ''"
   ]
  },
  {
   "cell_type": "code",
   "execution_count": 386,
   "metadata": {},
   "outputs": [
    {
     "name": "stderr",
     "output_type": "stream",
     "text": [
      "/anaconda3/lib/python3.7/site-packages/ipykernel_launcher.py:6: FutureWarning: set_value is deprecated and will be removed in a future release. Please use .at[] or .iat[] accessors instead\n",
      "  \n"
     ]
    }
   ],
   "source": [
    "for j in y_pred_fin_pos:\n",
    "    for i in obj: \n",
    "        test_tuple = tuple([i[0],i[1]])\n",
    "        if test_tuple in y_pred_fin_pos[j].index:\n",
    "            date = convert_to_date(i[2])\n",
    "            y_pred_fin_pos[j].set_value(y_pred_fin_pos[j].loc[[test_tuple]].index,'date',  date)"
   ]
  },
  {
   "cell_type": "code",
   "execution_count": 387,
   "metadata": {},
   "outputs": [],
   "source": [
    "for i in (y_pred_fin_pos):\n",
    "    y_pred_fin_pos[i].sort_values(by=['date'], inplace=True, ascending=False)"
   ]
  },
  {
   "cell_type": "code",
   "execution_count": 388,
   "metadata": {},
   "outputs": [],
   "source": [
    "total = []\n",
    "for i in (y_pred_fin_pos):\n",
    "    top = (y_pred_fin_pos[i].iloc[0])['helpfulness']\n",
    "    total.append(top)"
   ]
  },
  {
   "cell_type": "code",
   "execution_count": 389,
   "metadata": {},
   "outputs": [
    {
     "name": "stdout",
     "output_type": "stream",
     "text": [
      "<class 'list'>\n"
     ]
    }
   ],
   "source": [
    "print(type(total))\n",
    "total_fin = list(map(float, total))"
   ]
  },
  {
   "cell_type": "code",
   "execution_count": 390,
   "metadata": {},
   "outputs": [
    {
     "data": {
      "text/plain": [
       "0.3614696265702977"
      ]
     },
     "execution_count": 390,
     "metadata": {},
     "output_type": "execute_result"
    }
   ],
   "source": [
    "mean(total_fin)"
   ]
  }
 ],
 "metadata": {
  "kernelspec": {
   "display_name": "Python 3",
   "language": "python",
   "name": "python3"
  },
  "language_info": {
   "codemirror_mode": {
    "name": "ipython",
    "version": 3
   },
   "file_extension": ".py",
   "mimetype": "text/x-python",
   "name": "python",
   "nbconvert_exporter": "python",
   "pygments_lexer": "ipython3",
   "version": "3.7.1"
  }
 },
 "nbformat": 4,
 "nbformat_minor": 2
}
