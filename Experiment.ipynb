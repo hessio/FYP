{
 "cells": [
  {
   "cell_type": "markdown",
   "metadata": {},
   "source": [
    "# Purpose of the Notebook\n",
    "\n",
    "- **Section 1:** is where read the data frames data that we created in the data preprocessing notebook, parse this data and store into two different dictionaries. One dictionary stores the positive reviews (greater than 3 stars) and the other stores the negative reviews (less than 4 stars).\n",
    "\n",
    "- **Section 2:** is where we train a classifier per hotel. Get the most helpful review, for each hotel and then store this helpfulness score into a list. Then we calculate the average helpfulness for the list. Similarly we calculate the percentage of helpful reviews that are recommended by the classifier.\n",
    "\n",
    "- **Section 3:** we do the same as before except just instead of training and testing a classifier we just get a the most recently written review and a random review."
   ]
  },
  {
   "cell_type": "code",
   "execution_count": null,
   "metadata": {},
   "outputs": [],
   "source": [
    "import pandas as pd\n",
    "import pickle\n",
    "import re\n",
    "from  sklearn.ensemble import RandomForestClassifier\n",
    "import numpy as np\n",
    "import matplotlib.pyplot as plt\n",
    "from sklearn.utils import resample\n",
    "from datetime import *\n",
    "from statistics import mean\n",
    "from random import seed\n",
    "from random import randint"
   ]
  },
  {
   "cell_type": "markdown",
   "metadata": {},
   "source": [
    "## Section 1"
   ]
  },
  {
   "cell_type": "markdown",
   "metadata": {},
   "source": [
    "Read the csv files created in the data processing notebook"
   ]
  },
  {
   "cell_type": "code",
   "execution_count": null,
   "metadata": {},
   "outputs": [],
   "source": [
    "user_decision = int(input('Enter 1 to read Chicago dataset and enter 2 to read Las-Vegas dataset'))"
   ]
  },
  {
   "cell_type": "markdown",
   "metadata": {},
   "source": [
    "In the data preprocessing notebook we created a list of all the reviews from the datasets we used for this project. This list was written to this file. We use the python pickle library to read a list straight from a file and store this list in review_count."
   ]
  },
  {
   "cell_type": "code",
   "execution_count": null,
   "metadata": {},
   "outputs": [],
   "source": [
    "if(user_decision==1):\n",
    "    df = pd.read_csv('chicago_data_frame_with_fewer_rows.csv')\n",
    "    df = df.set_index(['hotel_id', 'reviewer_id'])\n",
    "    with open(\"reviews_file_chicago.txt\", \"rb\") as fp:   # Unpickling\n",
    "        review_count = pickle.load(fp)\n",
    "elif(user_decision ==2):\n",
    "    df = pd.read_csv('las-vegas_data_frame_with_fewer_rows.csv')\n",
    "    df = df.set_index(['hotel_id', 'reviewer_id'])\n",
    "    with open(\"reviews_file_las-vegas.txt\", \"rb\") as fp:   # Unpickling\n",
    "        review_count = pickle.load(fp)"
   ]
  },
  {
   "cell_type": "markdown",
   "metadata": {},
   "source": [
    "Parse the reviews to get a list of all the unique hotel ids in the dataset. We use a set because sets don't allow\n",
    "duplicates."
   ]
  },
  {
   "cell_type": "code",
   "execution_count": null,
   "metadata": {},
   "outputs": [],
   "source": [
    "regex = r'<hotelUrl>\\n(.*?)\\n</hotelUrl>'\n",
    "unique_hotel_ids = set()\n",
    "for i in review_count:\n",
    "    hotel_name = re.search(regex, i)\n",
    "    hotel_name = hotel_name[1]\n",
    "    unique_hotel_ids.add(hotel_name)"
   ]
  },
  {
   "cell_type": "markdown",
   "metadata": {},
   "source": [
    "Function to convert string to date object"
   ]
  },
  {
   "cell_type": "code",
   "execution_count": null,
   "metadata": {},
   "outputs": [],
   "source": [
    "def convert_to_date(date):\n",
    "    ans = datetime.strptime(date, \"%b %d, %Y\")\n",
    "    return ans"
   ]
  },
  {
   "cell_type": "markdown",
   "metadata": {},
   "source": [
    "Remove reviews which don't have a minimum of at least 5 helpfulness opininons"
   ]
  },
  {
   "cell_type": "code",
   "execution_count": null,
   "metadata": {},
   "outputs": [],
   "source": [
    "regex = r'<hotelUrl>\\n(.*?)\\n</hotelUrl>\\n[\\s\\S]+?\\n<helpfulness>\\n(.*?)\\n</helpfulness>'\n",
    "unique_hotel_ids = set()\n",
    "for i in review_count:\n",
    "    hotel_name = re.search(regex, i)\n",
    "    hotel_id = hotel_name[1]\n",
    "    helpful_score = (hotel_name[2]).split(' of ')\n",
    "    if (int(helpful_score[1])) > 4:\n",
    "        unique_hotel_ids.add(hotel_id)\n"
   ]
  },
  {
   "cell_type": "markdown",
   "metadata": {},
   "source": [
    "Create a list of lists, where each sublist has the format ['reviewer id', 'hotel id', 'date']"
   ]
  },
  {
   "cell_type": "code",
   "execution_count": null,
   "metadata": {},
   "outputs": [],
   "source": [
    "date_member_hotel = []\n",
    "obj = []\n",
    "count = 0\n",
    "date_member_hotel_regex = r'<memberUrl>\\n([\\s\\S]*?)\\n</memberUrl>\\n<hotelUrl>\\n([\\s\\S]*?)\\n</hotelUrl>\\n[\\s\\S]*?\\n<date>\\n(.*?)\\n</date>'\n",
    "for i in review_count:\n",
    "    matched = re.search(date_member_hotel_regex, i)\n",
    "    member = matched[1]\n",
    "    hotel = matched[2]\n",
    "    date = matched[3]\n",
    "    obj.append([hotel, member, date])"
   ]
  },
  {
   "cell_type": "markdown",
   "metadata": {},
   "source": [
    "Create a dictionary where the key is the hotel id and the values are all reviews with that hotel id"
   ]
  },
  {
   "cell_type": "code",
   "execution_count": null,
   "metadata": {},
   "outputs": [],
   "source": [
    "rows_with_hotel_as_key = dict()\n",
    "\n",
    "for i in unique_hotel_ids:\n",
    "    if i in df.index.get_level_values('hotel_id'):\n",
    "        if i in rows_with_hotel_as_key:\n",
    "            rows_with_hotel_as_key[i] = pd.merge(rows_with_hotel_as_key[i], df.loc[[i]], how = 'right', on=['hotel_id', 'reviewer_id'])\n",
    "        else:\n",
    "            rows_with_hotel_as_key[i] = pd.DataFrame(df.loc[[i]])"
   ]
  },
  {
   "cell_type": "markdown",
   "metadata": {},
   "source": [
    "Create a dictionary where the key is the hotel id and the values are all reviews with that hotel id for all reviews\n",
    "that have a star rating less than 4 stars"
   ]
  },
  {
   "cell_type": "code",
   "execution_count": null,
   "metadata": {},
   "outputs": [],
   "source": [
    "rows_with_hotel_as_key_culled_neg = dict()\n",
    "\n",
    "for i in rows_with_hotel_as_key:\n",
    "    if len(rows_with_hotel_as_key[i]) < 5:\n",
    "        continue\n",
    "    else:\n",
    "        neg = 0\n",
    "        for j,row in rows_with_hotel_as_key[i].iterrows():\n",
    "            if (row['ST1']) < 4:\n",
    "                neg+=1\n",
    "        if neg > 4:\n",
    "            rows_with_hotel_as_key_culled_neg[i] = rows_with_hotel_as_key[i]"
   ]
  },
  {
   "cell_type": "markdown",
   "metadata": {},
   "source": [
    "Create a dictionary where the key is the hotel id and the values are all reviews with that hotel id for all reviews \n",
    "that have a star rating more than 3 stars"
   ]
  },
  {
   "cell_type": "code",
   "execution_count": null,
   "metadata": {},
   "outputs": [],
   "source": [
    "rows_with_hotel_as_key_culled_pos = dict()\n",
    "\n",
    "for i in rows_with_hotel_as_key:\n",
    "    if len(rows_with_hotel_as_key[i]) < 5:\n",
    "        continue\n",
    "    else:\n",
    "        pos = 0\n",
    "        for j,row in rows_with_hotel_as_key[i].iterrows():\n",
    "            if (row['ST1']) >= 4:\n",
    "                pos+=1\n",
    "        if pos > 4:\n",
    "            rows_with_hotel_as_key_culled_pos[i] = rows_with_hotel_as_key[i]"
   ]
  },
  {
   "cell_type": "markdown",
   "metadata": {},
   "source": [
    "## Section 2\n",
    "\n",
    "For each hotel in unique hotel ids we train a classifier using all other hotels. Essentially using the leave one\n",
    "out train test split for the classifier. We store the highest ranked review into a list for each iteration of the\n",
    "loop. We use random forest classifier as our classifier. The output from the classifier for each review is a \n",
    "confidence score which represents how confident the classifier is that the review is helpful.\n",
    "\n",
    "- This is only for the negative reviews (reviews that received less than 4 stars)"
   ]
  },
  {
   "cell_type": "code",
   "execution_count": null,
   "metadata": {},
   "outputs": [],
   "source": [
    "x_train = pd.DataFrame(columns=df.columns)\n",
    "x_train = pd.DataFrame(columns=df.columns)\n",
    "x_train['hotel_id'] = ''\n",
    "x_train['reviewer_id'] = ''\n",
    "x_train = x_train.set_index(['hotel_id', 'reviewer_id'])"
   ]
  },
  {
   "cell_type": "code",
   "execution_count": null,
   "metadata": {},
   "outputs": [],
   "source": [
    "classifier = RandomForestClassifier()\n",
    "hotel_prediction = dict()\n",
    "y_pred = []\n",
    "y_test = []\n",
    "y_pred_df_neg = dict()\n",
    "for i in rows_with_hotel_as_key_culled_neg:\n",
    "    #create a dataframe I can use to train using leave one out approach\n",
    "    # i is the hotel we want to use to test the classifier which is trained using the other hotels\n",
    "    x_test = rows_with_hotel_as_key_culled_neg[i].copy()\n",
    "    y_train = []\n",
    "    x_train = pd.DataFrame(columns=df.columns)\n",
    "    for j in rows_with_hotel_as_key_culled_neg:\n",
    "        if i != j:\n",
    "            new_df = rows_with_hotel_as_key_culled_neg[j].copy()\n",
    "            x_train = pd.concat([x_train, new_df])\n",
    "    y_train = x_train.pop('helpful_of_not')\n",
    "    y_train = (y_train.to_frame()['helpful_of_not']).astype(str).astype(int)\n",
    "    classifier.fit(X=x_train.values, y=y_train.values)\n",
    "    y_test.append(x_test.pop('helpful_of_not'))\n",
    "    prediction = classifier.predict_proba(x_test)\n",
    "    y_pred_df_neg[x_test.index[0][0]] = pd.DataFrame(prediction, columns = ['not helpful', 'helpfulness'], index=x_test.index)\n"
   ]
  },
  {
   "cell_type": "code",
   "execution_count": null,
   "metadata": {},
   "outputs": [],
   "source": [
    "for i in y_pred_df_neg:\n",
    "    y_pred_df_neg[i] = pd.merge(y_pred_df_neg[i], df, how = 'left', on=['hotel_id', 'reviewer_id'])"
   ]
  },
  {
   "cell_type": "code",
   "execution_count": null,
   "metadata": {},
   "outputs": [],
   "source": [
    "y_pred_fin_neg = dict()\n",
    "\n",
    "for i in (y_pred_df_neg):\n",
    "    count =0\n",
    "    for j,row in y_pred_df_neg[i].iterrows():\n",
    "        y_pred_fin_neg[i] = y_pred_df_neg[i][y_pred_df_neg[i]['ST1'] < 4]"
   ]
  },
  {
   "cell_type": "code",
   "execution_count": null,
   "metadata": {},
   "outputs": [],
   "source": [
    "for i in (y_pred_fin_neg):\n",
    "    y_pred_fin_neg[i].sort_values(by=['helpfulness'], inplace=True, ascending=False)"
   ]
  },
  {
   "cell_type": "code",
   "execution_count": null,
   "metadata": {},
   "outputs": [],
   "source": [
    "neg_class_avg = []\n",
    "\n",
    "for i in (y_pred_fin_neg):\n",
    "    top = y_pred_fin_neg[i].iloc[0]\n",
    "    neg_class_avg.append((top['helpfulness']))"
   ]
  },
  {
   "cell_type": "code",
   "execution_count": null,
   "metadata": {},
   "outputs": [],
   "source": [
    "neg_class_total = []\n",
    "\n",
    "for i in (y_pred_fin_neg):\n",
    "    top = y_pred_fin_neg[i].iloc[0]\n",
    "    helpful = (top['helpfulness'])\n",
    "    if helpful >= 0.5:\n",
    "        neg_class_total.append(1)\n",
    "    else:\n",
    "        neg_class_total.append(0)"
   ]
  },
  {
   "cell_type": "markdown",
   "metadata": {},
   "source": [
    "The percentage of helpful reviews recommended by the classification recommendation technique for negative reviews"
   ]
  },
  {
   "cell_type": "code",
   "execution_count": null,
   "metadata": {},
   "outputs": [],
   "source": [
    "mean(neg_class_avg)"
   ]
  },
  {
   "cell_type": "markdown",
   "metadata": {},
   "source": [
    "The average helpfulness of the reviews recommended by the classification recommendation technique for positive reviews"
   ]
  },
  {
   "cell_type": "code",
   "execution_count": null,
   "metadata": {},
   "outputs": [],
   "source": [
    "mean(neg_class_total)"
   ]
  },
  {
   "cell_type": "markdown",
   "metadata": {},
   "source": [
    "This time we carry out the same training and testing split except this time we only do it for positive review."
   ]
  },
  {
   "cell_type": "code",
   "execution_count": null,
   "metadata": {},
   "outputs": [],
   "source": [
    "x_train_pos = pd.DataFrame(columns=df.columns)\n",
    "x_train_pos = pd.DataFrame(columns=df.columns)\n",
    "x_train_pos['hotel_id'] = ''\n",
    "x_train_pos['reviewer_id'] = ''\n",
    "x_train_pos = x_train_pos.set_index(['hotel_id', 'reviewer_id'])"
   ]
  },
  {
   "cell_type": "code",
   "execution_count": null,
   "metadata": {},
   "outputs": [],
   "source": [
    "classifier = RandomForestClassifier(n_estimators=39, max_depth=20)\n",
    "hotel_prediction = dict()\n",
    "y_pred = []\n",
    "y_test = []\n",
    "y_pred_df_pos = dict()\n",
    "for i in rows_with_hotel_as_key_culled_pos:\n",
    "    #create a dataframe I can use to train using leave one out approach\n",
    "    # i is the hotel we want to use to test the classifier which is trained using the other hotels\n",
    "    x_test = rows_with_hotel_as_key_culled_pos[i].copy()\n",
    "    y_train = []\n",
    "    x_train = pd.DataFrame(columns=df.columns)\n",
    "    for j in rows_with_hotel_as_key_culled_pos:\n",
    "        if i != j:\n",
    "            new_df = rows_with_hotel_as_key_culled_pos[j].copy()\n",
    "            x_train_pos = pd.concat([x_train, new_df])\n",
    "    y_train_pos = x_train_pos.pop('helpful_of_not')\n",
    "    y_train = (y_train_pos.to_frame()['helpful_of_not']).astype(str).astype(int)\n",
    "    classifier.fit(X=x_train_pos.values, y=y_train.values)\n",
    "    y_test.append(x_test.pop('helpful_of_not'))\n",
    "    prediction = classifier.predict_proba(x_test)\n",
    "    y_pred_df_pos[x_test.index[0][0]] = pd.DataFrame(prediction, columns = ['not helpful', 'helpfulness'], index=x_test.index)\n",
    "    "
   ]
  },
  {
   "cell_type": "code",
   "execution_count": null,
   "metadata": {},
   "outputs": [],
   "source": [
    "for i in y_pred_df_pos:\n",
    "    y_pred_df_pos[i] = pd.merge(y_pred_df_pos[i], df, how = 'left', on=['hotel_id', 'reviewer_id'])"
   ]
  },
  {
   "cell_type": "code",
   "execution_count": null,
   "metadata": {},
   "outputs": [],
   "source": [
    "y_pred_fin_pos = dict()\n",
    "\n",
    "for i in (y_pred_df_pos):\n",
    "    count =0\n",
    "    for j,row in y_pred_df_pos[i].iterrows():\n",
    "        y_pred_fin_pos[i] = y_pred_df_pos[i][y_pred_df_pos[i]['ST1'] >= 4]"
   ]
  },
  {
   "cell_type": "code",
   "execution_count": null,
   "metadata": {},
   "outputs": [],
   "source": [
    "for i in (y_pred_fin_pos):\n",
    "    y_pred_fin_pos[i].sort_values(by=['helpfulness'], inplace=True, ascending=False)"
   ]
  },
  {
   "cell_type": "code",
   "execution_count": null,
   "metadata": {},
   "outputs": [],
   "source": [
    "pos_class_avg = []\n",
    "\n",
    "for i in (y_pred_fin_pos):\n",
    "    top = y_pred_fin_pos[i].iloc[0]\n",
    "    pos_class_avg.append((top['helpfulness']))"
   ]
  },
  {
   "cell_type": "code",
   "execution_count": null,
   "metadata": {},
   "outputs": [],
   "source": [
    "pos_class_total = []\n",
    "\n",
    "for i in (y_pred_fin_pos):\n",
    "    top = y_pred_fin_pos[i].iloc[0]\n",
    "    helpful = (top['helpfulness'])\n",
    "    if helpful >= 0.5:\n",
    "        pos_class_total.append(1)\n",
    "    else:\n",
    "        pos_class_total.append(0)"
   ]
  },
  {
   "cell_type": "markdown",
   "metadata": {},
   "source": [
    "The percentage of helpful reviews recommended by the classification recommendation technique for positive reviews"
   ]
  },
  {
   "cell_type": "code",
   "execution_count": null,
   "metadata": {},
   "outputs": [],
   "source": [
    "mean(pos_class_avg)"
   ]
  },
  {
   "cell_type": "markdown",
   "metadata": {},
   "source": [
    "The mean helpfulness score for the reveiews recommended by the recommendation technique for positive reviews"
   ]
  },
  {
   "cell_type": "code",
   "execution_count": null,
   "metadata": {},
   "outputs": [],
   "source": [
    "mean(pos_class_total)"
   ]
  },
  {
   "cell_type": "markdown",
   "metadata": {},
   "source": [
    "## Section 3\n",
    "\n",
    "### Date Negative Mean Review Helpfulness\n",
    "\n",
    "Below we first add the date column to all the rows of the data frames. We didn't add the dates to the rows before now because they would have interfered with the classification results. Once the date column is appended to all rows we then sort the data frame for each hotel by most recently written review, using the date column. Then we add the helpfulness of the top review to a list and calculate the percentage of helpful reviews and the mean helpfulness for the lists. We then repeat this except for positive reviews once we do this for negative reviews."
   ]
  },
  {
   "cell_type": "code",
   "execution_count": null,
   "metadata": {},
   "outputs": [],
   "source": [
    "for i in y_pred_fin_neg:\n",
    "    y_pred_fin_neg[i]['date'] = ''"
   ]
  },
  {
   "cell_type": "code",
   "execution_count": null,
   "metadata": {},
   "outputs": [],
   "source": [
    "for j in y_pred_fin_neg:\n",
    "    for i in obj: \n",
    "        test_tuple = tuple([i[0],i[1]])\n",
    "        if test_tuple in y_pred_fin_neg[j].index:\n",
    "            date = convert_to_date(i[2])\n",
    "            y_pred_fin_neg[j].set_value(y_pred_fin_neg[j].loc[[test_tuple]].index,'date',  date)"
   ]
  },
  {
   "cell_type": "code",
   "execution_count": null,
   "metadata": {},
   "outputs": [],
   "source": [
    "for i in (y_pred_fin_neg):\n",
    "    y_pred_fin_neg[i].sort_values(by=['date'], inplace=True, ascending=False)"
   ]
  },
  {
   "cell_type": "code",
   "execution_count": null,
   "metadata": {},
   "outputs": [],
   "source": [
    "hold = y_pred_fin_neg.copy()\n",
    "for i in hold:\n",
    "    if len(hold[i]) < 1:\n",
    "        del y_pred_fin_neg[i]"
   ]
  },
  {
   "cell_type": "code",
   "execution_count": null,
   "metadata": {},
   "outputs": [],
   "source": [
    "values_helpful_of_not_neg = df['helpful_of_not']"
   ]
  },
  {
   "cell_type": "code",
   "execution_count": null,
   "metadata": {},
   "outputs": [],
   "source": [
    "for i in y_pred_fin_neg:\n",
    "    y_pred_fin_neg[i] = pd.merge(y_pred_fin_neg[i], values_helpful_of_not_neg, how = 'left', on=['hotel_id', 'reviewer_id'])"
   ]
  },
  {
   "cell_type": "code",
   "execution_count": null,
   "metadata": {},
   "outputs": [],
   "source": [
    "for i in y_pred_fin_neg:\n",
    "    y_pred_fin_neg[i] = pd.merge(y_pred_fin_neg[i], values_helpful_of_not_neg, how = 'left', on=['hotel_id', 'reviewer_id'])"
   ]
  },
  {
   "cell_type": "code",
   "execution_count": null,
   "metadata": {},
   "outputs": [],
   "source": [
    "for i in (y_pred_fin_neg):\n",
    "    y_pred_fin_neg[i].sort_values(by=['date'], inplace=True, ascending=False)"
   ]
  },
  {
   "cell_type": "code",
   "execution_count": null,
   "metadata": {},
   "outputs": [],
   "source": [
    "total = []\n",
    "for i in (y_pred_fin_neg):\n",
    "    top = (y_pred_fin_neg[i].iloc[0])['helpful_of_not']\n",
    "    total.append(top)\n",
    "\n",
    "total_fin = list(map(int, total))"
   ]
  },
  {
   "cell_type": "markdown",
   "metadata": {},
   "source": [
    "Mean review helpfulness for the most recently written negative review for each hotel."
   ]
  },
  {
   "cell_type": "code",
   "execution_count": null,
   "metadata": {},
   "outputs": [],
   "source": [
    "mean(total_fin)"
   ]
  },
  {
   "cell_type": "markdown",
   "metadata": {},
   "source": [
    "### Positive Date Mean Review Helpfulness"
   ]
  },
  {
   "cell_type": "code",
   "execution_count": null,
   "metadata": {},
   "outputs": [],
   "source": [
    "for i in y_pred_fin_pos:\n",
    "    y_pred_fin_pos[i]['date'] = ''"
   ]
  },
  {
   "cell_type": "code",
   "execution_count": null,
   "metadata": {},
   "outputs": [],
   "source": [
    "for j in y_pred_fin_pos:\n",
    "    for i in obj: \n",
    "        test_tuple = tuple([i[0],i[1]])\n",
    "        if test_tuple in y_pred_fin_pos[j].index:\n",
    "            date = convert_to_date(i[2])\n",
    "            y_pred_fin_pos[j].set_value(y_pred_fin_pos[j].loc[[test_tuple]].index,'date',  date)"
   ]
  },
  {
   "cell_type": "code",
   "execution_count": null,
   "metadata": {},
   "outputs": [],
   "source": [
    "for i in (y_pred_fin_pos):\n",
    "    y_pred_fin_pos[i].sort_values(by=['date'], inplace=True, ascending=False)"
   ]
  },
  {
   "cell_type": "code",
   "execution_count": null,
   "metadata": {},
   "outputs": [],
   "source": [
    "hold = y_pred_fin_pos.copy()\n",
    "for i in hold:\n",
    "    if len(hold[i]) < 1:\n",
    "        del y_pred_fin_pos[i]"
   ]
  },
  {
   "cell_type": "code",
   "execution_count": null,
   "metadata": {},
   "outputs": [],
   "source": [
    "values_helpful_of_not_pos = df['helpful_of_not']"
   ]
  },
  {
   "cell_type": "code",
   "execution_count": null,
   "metadata": {},
   "outputs": [],
   "source": [
    "for i in y_pred_fin_pos:\n",
    "    y_pred_fin_pos[i] = pd.merge(y_pred_fin_pos[i], values_helpful_of_not_pos, how = 'left', on=['hotel_id', 'reviewer_id'])"
   ]
  },
  {
   "cell_type": "code",
   "execution_count": null,
   "metadata": {},
   "outputs": [],
   "source": [
    "for i in y_pred_fin_pos:\n",
    "    y_pred_fin_pos[i] = pd.merge(y_pred_fin_pos[i], values_helpful_of_not_pos, how = 'left', on=['hotel_id', 'reviewer_id'])"
   ]
  },
  {
   "cell_type": "code",
   "execution_count": null,
   "metadata": {},
   "outputs": [],
   "source": [
    "for i in (y_pred_fin_pos):\n",
    "    y_pred_fin_pos[i].sort_values(by=['date'], inplace=True, ascending=False)"
   ]
  },
  {
   "cell_type": "code",
   "execution_count": null,
   "metadata": {},
   "outputs": [],
   "source": [
    "total = []\n",
    "for i in (y_pred_fin_pos):\n",
    "    top = (y_pred_fin_pos[i].iloc[0])['helpful_of_not']\n",
    "    total.append(top)\n",
    "\n",
    "total_fin = list(map(int, total))"
   ]
  },
  {
   "cell_type": "markdown",
   "metadata": {},
   "source": [
    "Mean review helpfulness for the most recently written positive review for each hotel."
   ]
  },
  {
   "cell_type": "code",
   "execution_count": null,
   "metadata": {},
   "outputs": [],
   "source": [
    "mean(total_fin)"
   ]
  },
  {
   "cell_type": "markdown",
   "metadata": {},
   "source": [
    "### Random Negative Percentage of recommended reviews that are helpful"
   ]
  },
  {
   "cell_type": "code",
   "execution_count": null,
   "metadata": {},
   "outputs": [],
   "source": [
    "for i in y_pred_fin_neg:\n",
    "    del y_pred_fin_neg[i]['date']"
   ]
  },
  {
   "cell_type": "code",
   "execution_count": null,
   "metadata": {},
   "outputs": [],
   "source": [
    "for i in y_pred_fin_neg:\n",
    "    rand_int = randint(0,len(y_pred_fin_neg[i])-1)\n",
    "    top = (y_pred_fin_neg[i].iloc[rand_int])['helpful_of_not']\n",
    "    total.append(top)"
   ]
  },
  {
   "cell_type": "code",
   "execution_count": null,
   "metadata": {},
   "outputs": [],
   "source": [
    "total_fin_neg = list(map(int, total))"
   ]
  },
  {
   "cell_type": "code",
   "execution_count": null,
   "metadata": {},
   "outputs": [],
   "source": [
    "mean(total_fin_neg)"
   ]
  },
  {
   "cell_type": "code",
   "execution_count": null,
   "metadata": {},
   "outputs": [],
   "source": [
    "df.pop('helpful_of_not')"
   ]
  },
  {
   "cell_type": "code",
   "execution_count": null,
   "metadata": {},
   "outputs": [],
   "source": [
    "vals_df = pd.read_csv('vals_df.csv')"
   ]
  },
  {
   "cell_type": "code",
   "execution_count": null,
   "metadata": {},
   "outputs": [],
   "source": [
    "vals_df = vals_df.set_index(['hotel_id', 'reviewer_id'])"
   ]
  },
  {
   "cell_type": "code",
   "execution_count": null,
   "metadata": {},
   "outputs": [],
   "source": [
    "df = pd.merge(vals_df, df, how = 'left', on=['hotel_id', 'reviewer_id'])"
   ]
  },
  {
   "cell_type": "code",
   "execution_count": null,
   "metadata": {},
   "outputs": [],
   "source": [
    "rows_with_hotel_as_key = dict()\n",
    "\n",
    "for i in unique_hotel_ids:\n",
    "    if i in df.index.get_level_values('hotel_id'):\n",
    "        if i in rows_with_hotel_as_key:\n",
    "            rows_with_hotel_as_key[i] = pd.merge(rows_with_hotel_as_key[i], df.loc[[i]], how = 'right', on=['hotel_id', 'reviewer_id'])\n",
    "        else:\n",
    "            rows_with_hotel_as_key[i] = pd.DataFrame(df.loc[[i]])"
   ]
  },
  {
   "cell_type": "code",
   "execution_count": null,
   "metadata": {},
   "outputs": [],
   "source": [
    "rows_with_hotel_as_key_culled_neg = dict()\n",
    "\n",
    "for i in rows_with_hotel_as_key:\n",
    "    if len(rows_with_hotel_as_key[i]) < 5:\n",
    "        continue\n",
    "    else:\n",
    "        neg = 0\n",
    "        for j,row in rows_with_hotel_as_key[i].iterrows():\n",
    "            if (row['ST1']) < 4:\n",
    "                neg+=1\n",
    "        if neg > 4:\n",
    "            rows_with_hotel_as_key_culled_neg[i] = rows_with_hotel_as_key[i]"
   ]
  },
  {
   "cell_type": "code",
   "execution_count": null,
   "metadata": {},
   "outputs": [],
   "source": [
    "for i in y_pred_fin_neg:\n",
    "    y_pred_fin_neg[i]['date'] = ''"
   ]
  },
  {
   "cell_type": "code",
   "execution_count": null,
   "metadata": {},
   "outputs": [],
   "source": [
    "for j in y_pred_fin_neg:\n",
    "    for i in obj: \n",
    "        test_tuple = tuple([i[0],i[1]])\n",
    "        if test_tuple in y_pred_fin_neg[j].index:\n",
    "            date = convert_to_date(i[2])\n",
    "            y_pred_fin_neg[j].set_value(y_pred_fin_neg[j].loc[[test_tuple]].index,'date',  date)"
   ]
  },
  {
   "cell_type": "code",
   "execution_count": null,
   "metadata": {},
   "outputs": [],
   "source": [
    "for i in (y_pred_fin_neg):\n",
    "    y_pred_fin_neg[i].sort_values(by=['date'], inplace=True, ascending=False)"
   ]
  },
  {
   "cell_type": "code",
   "execution_count": null,
   "metadata": {},
   "outputs": [],
   "source": [
    "total = []\n",
    "for i in (y_pred_fin_neg):\n",
    "    top = (y_pred_fin_neg[i].iloc[0])['helpfulness']\n",
    "    total.append(top)"
   ]
  },
  {
   "cell_type": "code",
   "execution_count": null,
   "metadata": {},
   "outputs": [],
   "source": [
    "print(type(total))\n",
    "total_fin = list(map(float, total))"
   ]
  },
  {
   "cell_type": "markdown",
   "metadata": {},
   "source": [
    "Percentage of helpful reviews that were recommended by the most recently written review recommender for negative\n",
    "reviews."
   ]
  },
  {
   "cell_type": "code",
   "execution_count": null,
   "metadata": {},
   "outputs": [],
   "source": [
    "mean(total_fin)"
   ]
  },
  {
   "cell_type": "markdown",
   "metadata": {},
   "source": [
    "# Random Positive Percentage of recommended reviews that are helpful"
   ]
  },
  {
   "cell_type": "code",
   "execution_count": null,
   "metadata": {},
   "outputs": [],
   "source": [
    "for i in y_pred_fin_pos:\n",
    "    rand_int = randint(0,len(y_pred_fin_pos[i])-1)\n",
    "    top = (y_pred_fin_pos[i].iloc[rand_int])['helpful_of_not']\n",
    "    total.append(top)"
   ]
  },
  {
   "cell_type": "code",
   "execution_count": null,
   "metadata": {},
   "outputs": [],
   "source": [
    "total_fin_pos = list(map(int, total))"
   ]
  },
  {
   "cell_type": "code",
   "execution_count": null,
   "metadata": {},
   "outputs": [],
   "source": [
    "mean(total_fin_pos)"
   ]
  },
  {
   "cell_type": "code",
   "execution_count": null,
   "metadata": {},
   "outputs": [],
   "source": [
    "df.pop('helpful_of_not')"
   ]
  },
  {
   "cell_type": "code",
   "execution_count": null,
   "metadata": {},
   "outputs": [],
   "source": [
    "vals_df = pd.read_csv('vals_df.csv')"
   ]
  },
  {
   "cell_type": "code",
   "execution_count": null,
   "metadata": {},
   "outputs": [],
   "source": [
    "vals_df = vals_df.set_index(['hotel_id', 'reviewer_id'])"
   ]
  },
  {
   "cell_type": "code",
   "execution_count": null,
   "metadata": {},
   "outputs": [],
   "source": [
    "df = pd.merge(vals_df, df, how = 'left', on=['hotel_id', 'reviewer_id'])"
   ]
  },
  {
   "cell_type": "code",
   "execution_count": null,
   "metadata": {},
   "outputs": [],
   "source": [
    "rows_with_hotel_as_key = dict()\n",
    "\n",
    "for i in unique_hotel_ids:\n",
    "    if i in df.index.get_level_values('hotel_id'):\n",
    "        if i in rows_with_hotel_as_key:\n",
    "            rows_with_hotel_as_key[i] = pd.merge(rows_with_hotel_as_key[i], df.loc[[i]], how = 'right', on=['hotel_id', 'reviewer_id'])\n",
    "        else:\n",
    "            rows_with_hotel_as_key[i] = pd.DataFrame(df.loc[[i]])"
   ]
  },
  {
   "cell_type": "code",
   "execution_count": null,
   "metadata": {},
   "outputs": [],
   "source": [
    "rows_with_hotel_as_key_culled_pos = dict()\n",
    "\n",
    "for i in rows_with_hotel_as_key:\n",
    "    if len(rows_with_hotel_as_key[i]) < 5:\n",
    "        continue\n",
    "    else:\n",
    "        pos = 0\n",
    "        for j,row in rows_with_hotel_as_key[i].iterrows():\n",
    "            if (row['ST1']) >= 4:\n",
    "                pos+=1\n",
    "        if pos > 4:\n",
    "            rows_with_hotel_as_key_culled_pos[i] = rows_with_hotel_as_key[i]"
   ]
  },
  {
   "cell_type": "code",
   "execution_count": null,
   "metadata": {},
   "outputs": [],
   "source": [
    "for i in y_pred_fin_pos:\n",
    "    y_pred_fin_pos[i]['date'] = ''"
   ]
  },
  {
   "cell_type": "code",
   "execution_count": null,
   "metadata": {},
   "outputs": [],
   "source": [
    "for j in y_pred_fin_pos:\n",
    "    for i in obj: \n",
    "        test_tuple = tuple([i[0],i[1]])\n",
    "        if test_tuple in y_pred_fin_pos[j].index:\n",
    "            date = convert_to_date(i[2])\n",
    "            y_pred_fin_pos[j].set_value(y_pred_fin_pos[j].loc[[test_tuple]].index,'date',  date)"
   ]
  },
  {
   "cell_type": "code",
   "execution_count": null,
   "metadata": {},
   "outputs": [],
   "source": [
    "for i in (y_pred_fin_pos):\n",
    "    y_pred_fin_pos[i].sort_values(by=['date'], inplace=True, ascending=False)"
   ]
  },
  {
   "cell_type": "code",
   "execution_count": null,
   "metadata": {},
   "outputs": [],
   "source": [
    "total = []\n",
    "for i in (y_pred_fin_pos):\n",
    "    top = (y_pred_fin_pos[i].iloc[0])['helpfulness']\n",
    "    total.append(top)"
   ]
  },
  {
   "cell_type": "code",
   "execution_count": null,
   "metadata": {},
   "outputs": [],
   "source": [
    "print(type(total))\n",
    "total_fin = list(map(float, total))"
   ]
  },
  {
   "cell_type": "markdown",
   "metadata": {},
   "source": [
    "Percentage of helpful reviews that were recommended by the most recently written review recommender for positive\n",
    "reviews."
   ]
  },
  {
   "cell_type": "code",
   "execution_count": null,
   "metadata": {},
   "outputs": [],
   "source": [
    "mean(total_fin)"
   ]
  }
 ],
 "metadata": {
  "kernelspec": {
   "display_name": "Python 3",
   "language": "python",
   "name": "python3"
  },
  "language_info": {
   "codemirror_mode": {
    "name": "ipython",
    "version": 3
   },
   "file_extension": ".py",
   "mimetype": "text/x-python",
   "name": "python",
   "nbconvert_exporter": "python",
   "pygments_lexer": "ipython3",
   "version": "3.7.1"
  }
 },
 "nbformat": 4,
 "nbformat_minor": 2
}
