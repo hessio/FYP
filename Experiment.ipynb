{
 "cells": [
  {
   "cell_type": "code",
   "execution_count": 110,
   "metadata": {},
   "outputs": [],
   "source": [
    "import pandas as pd\n",
    "import pickle\n",
    "import re\n",
    "from  sklearn.ensemble import RandomForestClassifier\n",
    "import numpy as np\n",
    "import matplotlib.pyplot as plt\n",
    "from sklearn.utils import resample\n",
    "from datetime import *\n",
    "from statistics import mean\n",
    "from random import seed\n",
    "from random import randint"
   ]
  },
  {
   "cell_type": "code",
   "execution_count": 111,
   "metadata": {},
   "outputs": [
    {
     "name": "stdout",
     "output_type": "stream",
     "text": [
      "Enter 1 to read Chicago dataset and enter 2 to read Las-Vegas dataset2\n"
     ]
    }
   ],
   "source": [
    "user_decision = int(input('Enter 1 to read Chicago dataset and enter 2 to read Las-Vegas dataset'))"
   ]
  },
  {
   "cell_type": "code",
   "execution_count": 112,
   "metadata": {},
   "outputs": [],
   "source": [
    "if(user_decision==1):\n",
    "    df = pd.read_csv('chicago_data_frame_with_fewer_rows.csv')\n",
    "    df = df.set_index(['hotel_id', 'reviewer_id'])\n",
    "    with open(\"reviews_file_chicago.txt\", \"rb\") as fp:   # Unpickling\n",
    "        review_count = pickle.load(fp)\n",
    "elif(user_decision ==2):\n",
    "    df = pd.read_csv('las-vegas_data_frame_with_fewer_rows.csv')\n",
    "    df = df.set_index(['hotel_id', 'reviewer_id'])\n",
    "    with open(\"reviews_file_las-vegas.txt\", \"rb\") as fp:   # Unpickling\n",
    "        review_count = pickle.load(fp)"
   ]
  },
  {
   "cell_type": "code",
   "execution_count": 113,
   "metadata": {},
   "outputs": [],
   "source": [
    "regex = r'<hotelUrl>\\n(.*?)\\n</hotelUrl>'\n",
    "unique_hotel_ids = set()\n",
    "for i in review_count:\n",
    "    hotel_name = re.search(regex, i)\n",
    "    hotel_name = hotel_name[1]\n",
    "    unique_hotel_ids.add(hotel_name)"
   ]
  },
  {
   "cell_type": "code",
   "execution_count": 114,
   "metadata": {},
   "outputs": [],
   "source": [
    "def convert_to_date(date):\n",
    "    ans = datetime.strptime(date, \"%b %d, %Y\")\n",
    "    return ans"
   ]
  },
  {
   "cell_type": "code",
   "execution_count": 115,
   "metadata": {},
   "outputs": [],
   "source": [
    "regex = r'<hotelUrl>\\n(.*?)\\n</hotelUrl>\\n[\\s\\S]+?\\n<helpfulness>\\n(.*?)\\n</helpfulness>'\n",
    "unique_hotel_ids = set()\n",
    "for i in review_count:\n",
    "    hotel_name = re.search(regex, i)\n",
    "    hotel_id = hotel_name[1]\n",
    "    helpful_score = (hotel_name[2]).split(' of ')\n",
    "    if (int(helpful_score[1])) > 4:\n",
    "        unique_hotel_ids.add(hotel_id)\n"
   ]
  },
  {
   "cell_type": "code",
   "execution_count": 116,
   "metadata": {},
   "outputs": [],
   "source": [
    "date_member_hotel = []\n",
    "obj = []\n",
    "count = 0\n",
    "date_member_hotel_regex = r'<memberUrl>\\n([\\s\\S]*?)\\n</memberUrl>\\n<hotelUrl>\\n([\\s\\S]*?)\\n</hotelUrl>\\n[\\s\\S]*?\\n<date>\\n(.*?)\\n</date>'\n",
    "for i in review_count:\n",
    "    matched = re.search(date_member_hotel_regex, i)\n",
    "    member = matched[1]\n",
    "    hotel = matched[2]\n",
    "    date = matched[3]\n",
    "    obj.append([hotel, member, date])"
   ]
  },
  {
   "cell_type": "code",
   "execution_count": 117,
   "metadata": {},
   "outputs": [],
   "source": [
    "rows_with_hotel_as_key = dict()\n",
    "\n",
    "for i in unique_hotel_ids:\n",
    "    if i in df.index.get_level_values('hotel_id'):\n",
    "        if i in rows_with_hotel_as_key:\n",
    "            rows_with_hotel_as_key[i] = pd.merge(rows_with_hotel_as_key[i], df.loc[[i]], how = 'right', on=['hotel_id', 'reviewer_id'])\n",
    "        else:\n",
    "            rows_with_hotel_as_key[i] = pd.DataFrame(df.loc[[i]])"
   ]
  },
  {
   "cell_type": "code",
   "execution_count": 118,
   "metadata": {},
   "outputs": [],
   "source": [
    "def removekey(d, key):\n",
    "    r = dict(d)\n",
    "    r.pop(key)\n",
    "    return r"
   ]
  },
  {
   "cell_type": "code",
   "execution_count": 119,
   "metadata": {},
   "outputs": [],
   "source": [
    "rows_with_hotel_as_key_culled_neg = dict()\n",
    "\n",
    "for i in rows_with_hotel_as_key:\n",
    "    if len(rows_with_hotel_as_key[i]) < 5:\n",
    "        continue\n",
    "    else:\n",
    "        neg = 0\n",
    "        for j,row in rows_with_hotel_as_key[i].iterrows():\n",
    "            if (row['ST1']) < 4:\n",
    "                neg+=1\n",
    "        if neg > 4:\n",
    "            rows_with_hotel_as_key_culled_neg[i] = rows_with_hotel_as_key[i]"
   ]
  },
  {
   "cell_type": "code",
   "execution_count": 120,
   "metadata": {},
   "outputs": [
    {
     "data": {
      "text/plain": [
       "106"
      ]
     },
     "execution_count": 120,
     "metadata": {},
     "output_type": "execute_result"
    }
   ],
   "source": [
    "len(rows_with_hotel_as_key_culled_neg)"
   ]
  },
  {
   "cell_type": "code",
   "execution_count": 121,
   "metadata": {},
   "outputs": [],
   "source": [
    "rows_with_hotel_as_key_culled_pos = dict()\n",
    "\n",
    "for i in rows_with_hotel_as_key:\n",
    "    if len(rows_with_hotel_as_key[i]) < 5:\n",
    "        continue\n",
    "    else:\n",
    "        pos = 0\n",
    "        for j,row in rows_with_hotel_as_key[i].iterrows():\n",
    "            if (row['ST1']) >= 4:\n",
    "                pos+=1\n",
    "        if pos > 4:\n",
    "            rows_with_hotel_as_key_culled_pos[i] = rows_with_hotel_as_key[i]"
   ]
  },
  {
   "cell_type": "code",
   "execution_count": 122,
   "metadata": {},
   "outputs": [
    {
     "data": {
      "text/plain": [
       "267"
      ]
     },
     "execution_count": 122,
     "metadata": {},
     "output_type": "execute_result"
    }
   ],
   "source": [
    "len(rows_with_hotel_as_key_culled_pos)"
   ]
  },
  {
   "cell_type": "code",
   "execution_count": 123,
   "metadata": {},
   "outputs": [],
   "source": [
    "x_train = pd.DataFrame(columns=df.columns)\n",
    "x_train = pd.DataFrame(columns=df.columns)\n",
    "x_train['hotel_id'] = ''\n",
    "x_train['reviewer_id'] = ''\n",
    "x_train = x_train.set_index(['hotel_id', 'reviewer_id'])"
   ]
  },
  {
   "cell_type": "code",
   "execution_count": 124,
   "metadata": {},
   "outputs": [
    {
     "name": "stderr",
     "output_type": "stream",
     "text": [
      "/anaconda3/lib/python3.7/site-packages/sklearn/ensemble/forest.py:245: FutureWarning: The default value of n_estimators will change from 10 in version 0.20 to 100 in 0.22.\n",
      "  \"10 in version 0.20 to 100 in 0.22.\", FutureWarning)\n"
     ]
    }
   ],
   "source": [
    "classifier = RandomForestClassifier()\n",
    "hotel_prediction = dict()\n",
    "y_pred = []\n",
    "y_test = []\n",
    "y_pred_df_neg = dict()\n",
    "for i in rows_with_hotel_as_key_culled_neg:\n",
    "    #create a dataframe I can use to train using leave one out approach\n",
    "    # i is the hotel we want to use to test the classifier which is trained using the other hotels\n",
    "    x_test = rows_with_hotel_as_key_culled_neg[i].copy()\n",
    "    y_train = []\n",
    "    x_train = pd.DataFrame(columns=df.columns)\n",
    "    for j in rows_with_hotel_as_key_culled_neg:\n",
    "        if i != j:\n",
    "            new_df = rows_with_hotel_as_key_culled_neg[j].copy()\n",
    "            x_train = pd.concat([x_train, new_df])\n",
    "    y_train = x_train.pop('helpful_of_not')\n",
    "    y_train = (y_train.to_frame()['helpful_of_not']).astype(str).astype(int)\n",
    "    classifier.fit(X=x_train.values, y=y_train.values)\n",
    "    y_test.append(x_test.pop('helpful_of_not'))\n",
    "    prediction = classifier.predict_proba(x_test)\n",
    "    y_pred_df_neg[x_test.index[0][0]] = pd.DataFrame(prediction, columns = ['not helpful', 'helpfulness'], index=x_test.index)\n"
   ]
  },
  {
   "cell_type": "code",
   "execution_count": 125,
   "metadata": {},
   "outputs": [],
   "source": [
    "for i in y_pred_df_neg:\n",
    "    y_pred_df_neg[i] = pd.merge(y_pred_df_neg[i], df, how = 'left', on=['hotel_id', 'reviewer_id'])"
   ]
  },
  {
   "cell_type": "code",
   "execution_count": 126,
   "metadata": {},
   "outputs": [],
   "source": [
    "y_pred_fin_neg = dict()\n",
    "\n",
    "for i in (y_pred_df_neg):\n",
    "    count =0\n",
    "    for j,row in y_pred_df_neg[i].iterrows():\n",
    "        y_pred_fin_neg[i] = y_pred_df_neg[i][y_pred_df_neg[i]['ST1'] < 4]"
   ]
  },
  {
   "cell_type": "code",
   "execution_count": 127,
   "metadata": {},
   "outputs": [
    {
     "name": "stderr",
     "output_type": "stream",
     "text": [
      "/anaconda3/lib/python3.7/site-packages/ipykernel_launcher.py:2: SettingWithCopyWarning: \n",
      "A value is trying to be set on a copy of a slice from a DataFrame\n",
      "\n",
      "See the caveats in the documentation: http://pandas.pydata.org/pandas-docs/stable/user_guide/indexing.html#returning-a-view-versus-a-copy\n",
      "  \n"
     ]
    }
   ],
   "source": [
    "for i in (y_pred_fin_neg):\n",
    "    y_pred_fin_neg[i].sort_values(by=['helpfulness'], inplace=True, ascending=False)"
   ]
  },
  {
   "cell_type": "code",
   "execution_count": 128,
   "metadata": {},
   "outputs": [],
   "source": [
    "neg_class_avg = []\n",
    "\n",
    "for i in (y_pred_fin_neg):\n",
    "    top = y_pred_fin_neg[i].iloc[0]\n",
    "    neg_class_avg.append((top['helpfulness']))"
   ]
  },
  {
   "cell_type": "code",
   "execution_count": 129,
   "metadata": {},
   "outputs": [],
   "source": [
    "neg_class_total = []\n",
    "\n",
    "for i in (y_pred_fin_neg):\n",
    "    top = y_pred_fin_neg[i].iloc[0]\n",
    "    helpful = (top['helpfulness'])\n",
    "    if helpful >= 0.5:\n",
    "        neg_class_total.append(1)\n",
    "    else:\n",
    "        neg_class_total.append(0)"
   ]
  },
  {
   "cell_type": "code",
   "execution_count": 130,
   "metadata": {},
   "outputs": [
    {
     "data": {
      "text/plain": [
       "0.8886792452830189"
      ]
     },
     "execution_count": 130,
     "metadata": {},
     "output_type": "execute_result"
    }
   ],
   "source": [
    "mean(neg_class_avg)"
   ]
  },
  {
   "cell_type": "code",
   "execution_count": 131,
   "metadata": {},
   "outputs": [
    {
     "data": {
      "text/plain": [
       "1"
      ]
     },
     "execution_count": 131,
     "metadata": {},
     "output_type": "execute_result"
    }
   ],
   "source": [
    "mean(neg_class_total)"
   ]
  },
  {
   "cell_type": "code",
   "execution_count": null,
   "metadata": {},
   "outputs": [],
   "source": []
  },
  {
   "cell_type": "code",
   "execution_count": 132,
   "metadata": {},
   "outputs": [],
   "source": [
    "x_train_pos = pd.DataFrame(columns=df.columns)\n",
    "x_train_pos = pd.DataFrame(columns=df.columns)\n",
    "x_train_pos['hotel_id'] = ''\n",
    "x_train_pos['reviewer_id'] = ''\n",
    "x_train_pos = x_train_pos.set_index(['hotel_id', 'reviewer_id'])"
   ]
  },
  {
   "cell_type": "code",
   "execution_count": 133,
   "metadata": {},
   "outputs": [],
   "source": [
    "classifier = RandomForestClassifier(n_estimators=39, max_depth=20)\n",
    "hotel_prediction = dict()\n",
    "y_pred = []\n",
    "y_test = []\n",
    "y_pred_df_pos = dict()\n",
    "for i in rows_with_hotel_as_key_culled_pos:\n",
    "    #create a dataframe I can use to train using leave one out approach\n",
    "    # i is the hotel we want to use to test the classifier which is trained using the other hotels\n",
    "    x_test = rows_with_hotel_as_key_culled_pos[i].copy()\n",
    "    y_train = []\n",
    "    x_train = pd.DataFrame(columns=df.columns)\n",
    "    for j in rows_with_hotel_as_key_culled_pos:\n",
    "        if i != j:\n",
    "            new_df = rows_with_hotel_as_key_culled_pos[j].copy()\n",
    "            x_train_pos = pd.concat([x_train, new_df])\n",
    "    y_train_pos = x_train_pos.pop('helpful_of_not')\n",
    "    y_train = (y_train_pos.to_frame()['helpful_of_not']).astype(str).astype(int)\n",
    "    classifier.fit(X=x_train_pos.values, y=y_train.values)\n",
    "    y_test.append(x_test.pop('helpful_of_not'))\n",
    "    prediction = classifier.predict_proba(x_test)\n",
    "    y_pred_df_pos[x_test.index[0][0]] = pd.DataFrame(prediction, columns = ['not helpful', 'helpfulness'], index=x_test.index)\n",
    "    "
   ]
  },
  {
   "cell_type": "code",
   "execution_count": 134,
   "metadata": {},
   "outputs": [],
   "source": [
    "for i in y_pred_df_pos:\n",
    "    y_pred_df_pos[i] = pd.merge(y_pred_df_pos[i], df, how = 'left', on=['hotel_id', 'reviewer_id'])"
   ]
  },
  {
   "cell_type": "code",
   "execution_count": 135,
   "metadata": {},
   "outputs": [],
   "source": [
    "y_pred_fin_pos = dict()\n",
    "\n",
    "for i in (y_pred_df_pos):\n",
    "    count =0\n",
    "    for j,row in y_pred_df_pos[i].iterrows():\n",
    "        y_pred_fin_pos[i] = y_pred_df_pos[i][y_pred_df_pos[i]['ST1'] >= 4]"
   ]
  },
  {
   "cell_type": "code",
   "execution_count": 136,
   "metadata": {},
   "outputs": [
    {
     "name": "stderr",
     "output_type": "stream",
     "text": [
      "/anaconda3/lib/python3.7/site-packages/ipykernel_launcher.py:2: SettingWithCopyWarning: \n",
      "A value is trying to be set on a copy of a slice from a DataFrame\n",
      "\n",
      "See the caveats in the documentation: http://pandas.pydata.org/pandas-docs/stable/user_guide/indexing.html#returning-a-view-versus-a-copy\n",
      "  \n"
     ]
    }
   ],
   "source": [
    "for i in (y_pred_fin_pos):\n",
    "    y_pred_fin_pos[i].sort_values(by=['helpfulness'], inplace=True, ascending=False)"
   ]
  },
  {
   "cell_type": "code",
   "execution_count": 137,
   "metadata": {},
   "outputs": [],
   "source": [
    "pos_class_avg = []\n",
    "\n",
    "for i in (y_pred_fin_pos):\n",
    "    top = y_pred_fin_pos[i].iloc[0]\n",
    "    pos_class_avg.append((top['helpfulness']))"
   ]
  },
  {
   "cell_type": "code",
   "execution_count": 138,
   "metadata": {},
   "outputs": [],
   "source": [
    "pos_class_total = []\n",
    "\n",
    "for i in (y_pred_fin_pos):\n",
    "    top = y_pred_fin_pos[i].iloc[0]\n",
    "    helpful = (top['helpfulness'])\n",
    "    if helpful >= 0.5:\n",
    "        pos_class_total.append(1)\n",
    "    else:\n",
    "        pos_class_total.append(0)"
   ]
  },
  {
   "cell_type": "code",
   "execution_count": 139,
   "metadata": {},
   "outputs": [
    {
     "data": {
      "text/plain": [
       "0.6406415058100451"
      ]
     },
     "execution_count": 139,
     "metadata": {},
     "output_type": "execute_result"
    }
   ],
   "source": [
    "mean(pos_class_avg)"
   ]
  },
  {
   "cell_type": "code",
   "execution_count": 140,
   "metadata": {},
   "outputs": [
    {
     "data": {
      "text/plain": [
       "0.8539325842696629"
      ]
     },
     "execution_count": 140,
     "metadata": {},
     "output_type": "execute_result"
    }
   ],
   "source": [
    "mean(pos_class_total)"
   ]
  },
  {
   "cell_type": "code",
   "execution_count": null,
   "metadata": {},
   "outputs": [],
   "source": []
  },
  {
   "cell_type": "markdown",
   "metadata": {},
   "source": [
    "# Date Negative Mean Review Helpfulness"
   ]
  },
  {
   "cell_type": "code",
   "execution_count": 141,
   "metadata": {},
   "outputs": [
    {
     "name": "stderr",
     "output_type": "stream",
     "text": [
      "/anaconda3/lib/python3.7/site-packages/ipykernel_launcher.py:2: SettingWithCopyWarning: \n",
      "A value is trying to be set on a copy of a slice from a DataFrame.\n",
      "Try using .loc[row_indexer,col_indexer] = value instead\n",
      "\n",
      "See the caveats in the documentation: http://pandas.pydata.org/pandas-docs/stable/user_guide/indexing.html#returning-a-view-versus-a-copy\n",
      "  \n"
     ]
    }
   ],
   "source": [
    "for i in y_pred_fin_neg:\n",
    "    y_pred_fin_neg[i]['date'] = ''"
   ]
  },
  {
   "cell_type": "code",
   "execution_count": 142,
   "metadata": {},
   "outputs": [
    {
     "name": "stderr",
     "output_type": "stream",
     "text": [
      "/anaconda3/lib/python3.7/site-packages/ipykernel_launcher.py:6: FutureWarning: set_value is deprecated and will be removed in a future release. Please use .at[] or .iat[] accessors instead\n",
      "  \n",
      "/anaconda3/lib/python3.7/site-packages/pandas/core/indexing.py:494: SettingWithCopyWarning: \n",
      "A value is trying to be set on a copy of a slice from a DataFrame.\n",
      "Try using .loc[row_indexer,col_indexer] = value instead\n",
      "\n",
      "See the caveats in the documentation: http://pandas.pydata.org/pandas-docs/stable/user_guide/indexing.html#returning-a-view-versus-a-copy\n",
      "  self.obj[item] = s\n",
      "/anaconda3/lib/python3.7/site-packages/ipykernel/zmqshell.py:536: PerformanceWarning: indexing past lexsort depth may impact performance.\n",
      "  return super(ZMQInteractiveShell, self).run_cell(*args, **kwargs)\n"
     ]
    }
   ],
   "source": [
    "for j in y_pred_fin_neg:\n",
    "    for i in obj: \n",
    "        test_tuple = tuple([i[0],i[1]])\n",
    "        if test_tuple in y_pred_fin_neg[j].index:\n",
    "            date = convert_to_date(i[2])\n",
    "            y_pred_fin_neg[j].set_value(y_pred_fin_neg[j].loc[[test_tuple]].index,'date',  date)"
   ]
  },
  {
   "cell_type": "code",
   "execution_count": 143,
   "metadata": {},
   "outputs": [
    {
     "name": "stderr",
     "output_type": "stream",
     "text": [
      "/anaconda3/lib/python3.7/site-packages/ipykernel_launcher.py:2: SettingWithCopyWarning: \n",
      "A value is trying to be set on a copy of a slice from a DataFrame\n",
      "\n",
      "See the caveats in the documentation: http://pandas.pydata.org/pandas-docs/stable/user_guide/indexing.html#returning-a-view-versus-a-copy\n",
      "  \n"
     ]
    }
   ],
   "source": [
    "for i in (y_pred_fin_neg):\n",
    "    y_pred_fin_neg[i].sort_values(by=['date'], inplace=True, ascending=False)"
   ]
  },
  {
   "cell_type": "code",
   "execution_count": 144,
   "metadata": {},
   "outputs": [],
   "source": [
    "hold = y_pred_fin_neg.copy()\n",
    "for i in hold:\n",
    "    if len(hold[i]) < 1:\n",
    "        del y_pred_fin_neg[i]"
   ]
  },
  {
   "cell_type": "code",
   "execution_count": 145,
   "metadata": {},
   "outputs": [],
   "source": [
    "values_helpful_of_not_neg = df['helpful_of_not']"
   ]
  },
  {
   "cell_type": "code",
   "execution_count": 146,
   "metadata": {},
   "outputs": [],
   "source": [
    "for i in y_pred_fin_neg:\n",
    "    y_pred_fin_neg[i] = pd.merge(y_pred_fin_neg[i], values_helpful_of_not_neg, how = 'left', on=['hotel_id', 'reviewer_id'])"
   ]
  },
  {
   "cell_type": "code",
   "execution_count": 147,
   "metadata": {},
   "outputs": [],
   "source": [
    "for i in y_pred_fin_neg:\n",
    "    y_pred_fin_neg[i] = pd.merge(y_pred_fin_neg[i], values_helpful_of_not_neg, how = 'left', on=['hotel_id', 'reviewer_id'])"
   ]
  },
  {
   "cell_type": "code",
   "execution_count": 148,
   "metadata": {},
   "outputs": [],
   "source": [
    "for i in (y_pred_fin_neg):\n",
    "    y_pred_fin_neg[i].sort_values(by=['date'], inplace=True, ascending=False)"
   ]
  },
  {
   "cell_type": "code",
   "execution_count": 149,
   "metadata": {},
   "outputs": [],
   "source": [
    "total = []\n",
    "for i in (y_pred_fin_neg):\n",
    "    top = (y_pred_fin_neg[i].iloc[0])['helpful_of_not']\n",
    "    total.append(top)\n",
    "\n",
    "total_fin = list(map(int, total))"
   ]
  },
  {
   "cell_type": "code",
   "execution_count": 150,
   "metadata": {},
   "outputs": [
    {
     "data": {
      "text/plain": [
       "0.36792452830188677"
      ]
     },
     "execution_count": 150,
     "metadata": {},
     "output_type": "execute_result"
    }
   ],
   "source": [
    "mean(total_fin)"
   ]
  },
  {
   "cell_type": "code",
   "execution_count": null,
   "metadata": {},
   "outputs": [],
   "source": []
  },
  {
   "cell_type": "markdown",
   "metadata": {},
   "source": [
    "# Positive Date Mean Review Helpfulness"
   ]
  },
  {
   "cell_type": "code",
   "execution_count": 151,
   "metadata": {},
   "outputs": [
    {
     "name": "stderr",
     "output_type": "stream",
     "text": [
      "/anaconda3/lib/python3.7/site-packages/ipykernel_launcher.py:2: SettingWithCopyWarning: \n",
      "A value is trying to be set on a copy of a slice from a DataFrame.\n",
      "Try using .loc[row_indexer,col_indexer] = value instead\n",
      "\n",
      "See the caveats in the documentation: http://pandas.pydata.org/pandas-docs/stable/user_guide/indexing.html#returning-a-view-versus-a-copy\n",
      "  \n"
     ]
    }
   ],
   "source": [
    "for i in y_pred_fin_pos:\n",
    "    y_pred_fin_pos[i]['date'] = ''"
   ]
  },
  {
   "cell_type": "code",
   "execution_count": 152,
   "metadata": {},
   "outputs": [
    {
     "name": "stderr",
     "output_type": "stream",
     "text": [
      "/anaconda3/lib/python3.7/site-packages/ipykernel_launcher.py:6: FutureWarning: set_value is deprecated and will be removed in a future release. Please use .at[] or .iat[] accessors instead\n",
      "  \n"
     ]
    }
   ],
   "source": [
    "for j in y_pred_fin_pos:\n",
    "    for i in obj: \n",
    "        test_tuple = tuple([i[0],i[1]])\n",
    "        if test_tuple in y_pred_fin_pos[j].index:\n",
    "            date = convert_to_date(i[2])\n",
    "            y_pred_fin_pos[j].set_value(y_pred_fin_pos[j].loc[[test_tuple]].index,'date',  date)"
   ]
  },
  {
   "cell_type": "code",
   "execution_count": 153,
   "metadata": {},
   "outputs": [
    {
     "name": "stderr",
     "output_type": "stream",
     "text": [
      "/anaconda3/lib/python3.7/site-packages/ipykernel_launcher.py:2: SettingWithCopyWarning: \n",
      "A value is trying to be set on a copy of a slice from a DataFrame\n",
      "\n",
      "See the caveats in the documentation: http://pandas.pydata.org/pandas-docs/stable/user_guide/indexing.html#returning-a-view-versus-a-copy\n",
      "  \n"
     ]
    }
   ],
   "source": [
    "for i in (y_pred_fin_pos):\n",
    "    y_pred_fin_pos[i].sort_values(by=['date'], inplace=True, ascending=False)"
   ]
  },
  {
   "cell_type": "code",
   "execution_count": 154,
   "metadata": {},
   "outputs": [],
   "source": [
    "hold = y_pred_fin_pos.copy()\n",
    "for i in hold:\n",
    "    if len(hold[i]) < 1:\n",
    "        del y_pred_fin_pos[i]"
   ]
  },
  {
   "cell_type": "code",
   "execution_count": 155,
   "metadata": {},
   "outputs": [],
   "source": [
    "values_helpful_of_not_pos = df['helpful_of_not']"
   ]
  },
  {
   "cell_type": "code",
   "execution_count": 156,
   "metadata": {},
   "outputs": [],
   "source": [
    "for i in y_pred_fin_pos:\n",
    "    y_pred_fin_pos[i] = pd.merge(y_pred_fin_pos[i], values_helpful_of_not_pos, how = 'left', on=['hotel_id', 'reviewer_id'])"
   ]
  },
  {
   "cell_type": "code",
   "execution_count": 157,
   "metadata": {},
   "outputs": [],
   "source": [
    "for i in y_pred_fin_pos:\n",
    "    y_pred_fin_pos[i] = pd.merge(y_pred_fin_pos[i], values_helpful_of_not_pos, how = 'left', on=['hotel_id', 'reviewer_id'])"
   ]
  },
  {
   "cell_type": "code",
   "execution_count": 158,
   "metadata": {},
   "outputs": [],
   "source": [
    "for i in (y_pred_fin_pos):\n",
    "    y_pred_fin_pos[i].sort_values(by=['date'], inplace=True, ascending=False)"
   ]
  },
  {
   "cell_type": "code",
   "execution_count": 159,
   "metadata": {},
   "outputs": [],
   "source": [
    "total = []\n",
    "for i in (y_pred_fin_pos):\n",
    "    top = (y_pred_fin_pos[i].iloc[0])['helpful_of_not']\n",
    "    total.append(top)\n",
    "\n",
    "total_fin = list(map(int, total))"
   ]
  },
  {
   "cell_type": "code",
   "execution_count": 160,
   "metadata": {},
   "outputs": [
    {
     "data": {
      "text/plain": [
       "0.5056179775280899"
      ]
     },
     "execution_count": 160,
     "metadata": {},
     "output_type": "execute_result"
    }
   ],
   "source": [
    "mean(total_fin)"
   ]
  },
  {
   "cell_type": "code",
   "execution_count": null,
   "metadata": {},
   "outputs": [],
   "source": []
  },
  {
   "cell_type": "markdown",
   "metadata": {},
   "source": [
    "# Random Negative Percentage of recommended reviews that are helpful"
   ]
  },
  {
   "cell_type": "code",
   "execution_count": 161,
   "metadata": {},
   "outputs": [],
   "source": [
    "for i in y_pred_fin_neg:\n",
    "    del y_pred_fin_neg[i]['date']"
   ]
  },
  {
   "cell_type": "code",
   "execution_count": 162,
   "metadata": {},
   "outputs": [],
   "source": [
    "for i in y_pred_fin_neg:\n",
    "    rand_int = randint(0,len(y_pred_fin_neg[i])-1)\n",
    "    top = (y_pred_fin_neg[i].iloc[rand_int])['helpful_of_not']\n",
    "    total.append(top)"
   ]
  },
  {
   "cell_type": "code",
   "execution_count": 163,
   "metadata": {},
   "outputs": [],
   "source": [
    "total_fin_neg = list(map(int, total))"
   ]
  },
  {
   "cell_type": "code",
   "execution_count": 164,
   "metadata": {},
   "outputs": [
    {
     "data": {
      "text/plain": [
       "0.4718498659517426"
      ]
     },
     "execution_count": 164,
     "metadata": {},
     "output_type": "execute_result"
    }
   ],
   "source": [
    "mean(total_fin_neg)"
   ]
  },
  {
   "cell_type": "code",
   "execution_count": 165,
   "metadata": {},
   "outputs": [
    {
     "data": {
      "text/plain": [
       "hotel_id                                                                                                                                           reviewer_id                                              \n",
       "http://las-vegas-hotels.tripadvisor.com/Hotel_Review-g45963-d91948-Reviews-Texas_Station_Gambling_Hall_and_Hotel-Las_Vegas_Nevada.html             /MemberProfile-ccu-a_uid.FF7879ECEFFD88884C5302F1B7F11867    0\n",
       "http://las-vegas-hotels.tripadvisor.com/Hotel_Review-g45963-d97733-Reviews-Sahara_Hotel_Casino-Las_Vegas_Nevada.html                               /MemberProfile-ccu-a_uid.CA0357067C1B45B2A93075B7EBE65995    0\n",
       "/Hotel_Review-g31377-d74308-Reviews-Embassy_Suites_Hotel_Phoenix_Tempe-Tempe_Arizona.html                                                          /members-reviews/JulieMCCoy                                  0\n",
       "http://las-vegas-hotels.tripadvisor.com/Hotel_Review-g45963-d114892-Reviews-The_Westin_Casuarina_Las_Vegas_Hotel_Casino_Spa-Las_Vegas_Nevada.html  /members-reviews/moviechic8                                  0\n",
       "/Hotel_Review-g155043-d183395-Reviews-Radisson_Hotel_Saskatoon-Saskatoon_Saskatchewan.html                                                         /members-reviews/Slyvr1                                      0\n",
       "                                                                                                                                                                                                               ..\n",
       "/Hotel_Review-g147413-d147592-Reviews-Caneel_Bay_A_Rosewood_Resort-Caneel_Bay_St_John_U_S_Virgin_Islands.html                                      /members-reviews/pollyjean23                                 1\n",
       "/Hotel_Review-g34438-d223971-Reviews-Marriott_s_Villas_at_Doral-Miami_Florida.html                                                                 /members-reviews/wmn9                                        1\n",
       "/Hotel_Review-g34316-d292248-Reviews-Colonial_Court_Inn-Indian_Rocks_Beach_Florida.html                                                            /members-reviews/happytrails2uall                            1\n",
       "http://rome-hotels.tripadvisor.com/Hotel_Review-g187791-d456488-Reviews-Hotel_Forte-Rome_Lazio.html                                                /members-reviews/Tita75                                      1\n",
       "/Hotel_Review-g60713-d119601-Reviews-Coventry_Motor_Inn-San_Francisco_California.html                                                              /members-reviews/kattykatt                                   1\n",
       "Name: helpful_of_not, Length: 25038, dtype: int64"
      ]
     },
     "execution_count": 165,
     "metadata": {},
     "output_type": "execute_result"
    }
   ],
   "source": [
    "df.pop('helpful_of_not')"
   ]
  },
  {
   "cell_type": "code",
   "execution_count": 166,
   "metadata": {},
   "outputs": [],
   "source": [
    "if user_decision==1:\n",
    "    vals_df = pd.read_csv('vals_df.csv')\n",
    "    vals_df = vals_df.set_index(['hotel_id', 'reviewer_id'])\n",
    "    df = pd.merge(vals_df, df, how = 'left', on=['hotel_id', 'reviewer_id'])\n",
    "else:\n",
    "    vals_df = pd.read_csv('las-vegas_vals_df.csv')\n",
    "    vals_df = vals_df.set_index(['hotel_id', 'reviewer_id'])\n",
    "    df = pd.merge(vals_df, df, how = 'left', on=['hotel_id', 'reviewer_id'])"
   ]
  },
  {
   "cell_type": "code",
   "execution_count": null,
   "metadata": {},
   "outputs": [],
   "source": []
  },
  {
   "cell_type": "code",
   "execution_count": null,
   "metadata": {},
   "outputs": [],
   "source": []
  },
  {
   "cell_type": "code",
   "execution_count": 167,
   "metadata": {},
   "outputs": [],
   "source": [
    "rows_with_hotel_as_key = dict()\n",
    "\n",
    "for i in unique_hotel_ids:\n",
    "    if i in df.index.get_level_values('hotel_id'):\n",
    "        if i in rows_with_hotel_as_key:\n",
    "            rows_with_hotel_as_key[i] = pd.merge(rows_with_hotel_as_key[i], df.loc[[i]], how = 'right', on=['hotel_id', 'reviewer_id'])\n",
    "        else:\n",
    "            rows_with_hotel_as_key[i] = pd.DataFrame(df.loc[[i]])"
   ]
  },
  {
   "cell_type": "code",
   "execution_count": 168,
   "metadata": {},
   "outputs": [],
   "source": [
    "rows_with_hotel_as_key_culled_neg = dict()\n",
    "\n",
    "for i in rows_with_hotel_as_key:\n",
    "    if len(rows_with_hotel_as_key[i]) < 5:\n",
    "        continue\n",
    "    else:\n",
    "        neg = 0\n",
    "        for j,row in rows_with_hotel_as_key[i].iterrows():\n",
    "            if (row['ST1']) < 4:\n",
    "                neg+=1\n",
    "        if neg > 4:\n",
    "            rows_with_hotel_as_key_culled_neg[i] = rows_with_hotel_as_key[i]"
   ]
  },
  {
   "cell_type": "code",
   "execution_count": 169,
   "metadata": {},
   "outputs": [],
   "source": [
    "for i in y_pred_fin_neg:\n",
    "    y_pred_fin_neg[i]['date'] = ''"
   ]
  },
  {
   "cell_type": "code",
   "execution_count": 170,
   "metadata": {},
   "outputs": [
    {
     "name": "stderr",
     "output_type": "stream",
     "text": [
      "/anaconda3/lib/python3.7/site-packages/ipykernel_launcher.py:6: FutureWarning: set_value is deprecated and will be removed in a future release. Please use .at[] or .iat[] accessors instead\n",
      "  \n"
     ]
    }
   ],
   "source": [
    "for j in y_pred_fin_neg:\n",
    "    for i in obj: \n",
    "        test_tuple = tuple([i[0],i[1]])\n",
    "        if test_tuple in y_pred_fin_neg[j].index:\n",
    "            date = convert_to_date(i[2])\n",
    "            y_pred_fin_neg[j].set_value(y_pred_fin_neg[j].loc[[test_tuple]].index,'date',  date)"
   ]
  },
  {
   "cell_type": "code",
   "execution_count": 171,
   "metadata": {},
   "outputs": [],
   "source": [
    "for i in (y_pred_fin_neg):\n",
    "    y_pred_fin_neg[i].sort_values(by=['date'], inplace=True, ascending=False)"
   ]
  },
  {
   "cell_type": "code",
   "execution_count": 172,
   "metadata": {},
   "outputs": [],
   "source": [
    "total = []\n",
    "for i in (y_pred_fin_neg):\n",
    "    top = (y_pred_fin_neg[i].iloc[0])['helpfulness']\n",
    "    total.append(top)"
   ]
  },
  {
   "cell_type": "code",
   "execution_count": 173,
   "metadata": {},
   "outputs": [
    {
     "name": "stdout",
     "output_type": "stream",
     "text": [
      "<class 'list'>\n"
     ]
    }
   ],
   "source": [
    "print(type(total))\n",
    "total_fin = list(map(float, total))"
   ]
  },
  {
   "cell_type": "code",
   "execution_count": 174,
   "metadata": {},
   "outputs": [
    {
     "data": {
      "text/plain": [
       "0.3877358490566038"
      ]
     },
     "execution_count": 174,
     "metadata": {},
     "output_type": "execute_result"
    }
   ],
   "source": [
    "mean(total_fin)"
   ]
  },
  {
   "cell_type": "markdown",
   "metadata": {},
   "source": [
    "# Random Positive Percentage of recommended reviews that are helpful"
   ]
  },
  {
   "cell_type": "code",
   "execution_count": 175,
   "metadata": {},
   "outputs": [],
   "source": [
    "for i in y_pred_fin_pos:\n",
    "    rand_int = randint(0,len(y_pred_fin_pos[i])-1)\n",
    "    top = (y_pred_fin_pos[i].iloc[rand_int])['helpful_of_not']\n",
    "    total.append(top)"
   ]
  },
  {
   "cell_type": "code",
   "execution_count": 176,
   "metadata": {},
   "outputs": [],
   "source": [
    "total_fin_pos = list(map(int, total))"
   ]
  },
  {
   "cell_type": "code",
   "execution_count": 177,
   "metadata": {},
   "outputs": [
    {
     "data": {
      "text/plain": [
       "0.4584450402144772"
      ]
     },
     "execution_count": 177,
     "metadata": {},
     "output_type": "execute_result"
    }
   ],
   "source": [
    "mean(total_fin_pos)"
   ]
  },
  {
   "cell_type": "code",
   "execution_count": 178,
   "metadata": {},
   "outputs": [
    {
     "data": {
      "text/plain": [
       "hotel_id                                                                                                                  reviewer_id                \n",
       "/Hotel_Review-g34352-d267184-Reviews-Hapimag_Orlando_Lake_Berkley_Resort-Kissimmee_Florida.html                           /members-reviews/Bathonion     0.833333\n",
       "/Hotel_Review-g34381-d251992-Reviews-Courtyard_Villa-Lauderdale_by_the_Sea_Florida.html                                   /members-reviews/Bathonion     0.000000\n",
       "/Hotel_Review-g60971-d75521-Reviews-La_Quinta_Inn_and_Suites_Flagstaff-Flagstaff_Arizona.html                             /members-reviews/Bathonion     1.000000\n",
       "/Hotel_Review-g61000-d119523-Reviews-Yosemite_Lodge_At_The_Falls-Yosemite_National_Park_California.html                   /members-reviews/Bathonion     1.000000\n",
       "http://las-vegas-hotels.tripadvisor.com/Hotel_Review-g45963-d121312-Reviews-Bally_s_Las_Vegas-Las_Vegas_Nevada.html       /members-reviews/Bathonion     0.962963\n",
       "                                                                                                                                                           ...   \n",
       "/Hotel_Review-g671541-d549924-Reviews-Discovery_at_Marigot_Bay-Marigot_Bay_St_Lucia.html                                  /members-reviews/missie22      0.727273\n",
       "/Hotel_Review-g295424-d306636-Reviews-Dubai_Marine_Beach_Resort_and_Spa-Dubai.html                                        /members-reviews/pepsi_enya    1.000000\n",
       "/Hotel_Review-g34515-d120210-Reviews-Florida_Hotel_and_Conference_Center-Orlando_Florida.html                             /members-reviews/pepsi_enya    1.000000\n",
       "http://las-vegas-hotels.tripadvisor.com/Hotel_Review-g45963-d601419-Reviews-Signature_at_MGM_Grand-Las_Vegas_Nevada.html  /members-reviews/Magicman49    1.000000\n",
       "/Hotel_Review-g60713-d80784-Reviews-Cathedral_Hill_Hotel-San_Francisco_California.html                                    /members-reviews/syllea        0.000000\n",
       "Name: helpful_of_not, Length: 147851, dtype: float64"
      ]
     },
     "execution_count": 178,
     "metadata": {},
     "output_type": "execute_result"
    }
   ],
   "source": [
    "df.pop('helpful_of_not')"
   ]
  },
  {
   "cell_type": "code",
   "execution_count": 186,
   "metadata": {},
   "outputs": [],
   "source": [
    "if user_decision==1:\n",
    "    vals_df = pd.read_csv('vals_df.csv')\n",
    "    vals_df = vals_df.set_index(['hotel_id', 'reviewer_id'])\n",
    "    df = pd.merge(vals_df, df, how = 'left', on=['hotel_id', 'reviewer_id'])\n",
    "else:\n",
    "    vals_df = pd.read_csv('las-vegas_vals_df.csv')\n",
    "    vals_df = vals_df.set_index(['hotel_id', 'reviewer_id'])\n",
    "    df = pd.merge(vals_df, df, how = 'left', on=['hotel_id', 'reviewer_id'])"
   ]
  },
  {
   "cell_type": "code",
   "execution_count": 187,
   "metadata": {},
   "outputs": [],
   "source": [
    "rows_with_hotel_as_key = dict()\n",
    "\n",
    "for i in unique_hotel_ids:\n",
    "    if i in df.index.get_level_values('hotel_id'):\n",
    "        if i in rows_with_hotel_as_key:\n",
    "            rows_with_hotel_as_key[i] = pd.merge(rows_with_hotel_as_key[i], df.loc[[i]], how = 'right', on=['hotel_id', 'reviewer_id'])\n",
    "        else:\n",
    "            rows_with_hotel_as_key[i] = pd.DataFrame(df.loc[[i]])"
   ]
  },
  {
   "cell_type": "code",
   "execution_count": 188,
   "metadata": {},
   "outputs": [],
   "source": [
    "rows_with_hotel_as_key_culled_pos = dict()\n",
    "\n",
    "for i in rows_with_hotel_as_key:\n",
    "    if len(rows_with_hotel_as_key[i]) < 5:\n",
    "        continue\n",
    "    else:\n",
    "        pos = 0\n",
    "        for j,row in rows_with_hotel_as_key[i].iterrows():\n",
    "            if (row['ST1']) >= 4:\n",
    "                pos+=1\n",
    "        if pos > 4:\n",
    "            rows_with_hotel_as_key_culled_pos[i] = rows_with_hotel_as_key[i]"
   ]
  },
  {
   "cell_type": "code",
   "execution_count": 189,
   "metadata": {},
   "outputs": [],
   "source": [
    "for i in y_pred_fin_pos:\n",
    "    y_pred_fin_pos[i]['date'] = ''"
   ]
  },
  {
   "cell_type": "code",
   "execution_count": 190,
   "metadata": {},
   "outputs": [
    {
     "name": "stderr",
     "output_type": "stream",
     "text": [
      "/anaconda3/lib/python3.7/site-packages/ipykernel_launcher.py:6: FutureWarning: set_value is deprecated and will be removed in a future release. Please use .at[] or .iat[] accessors instead\n",
      "  \n"
     ]
    }
   ],
   "source": [
    "for j in y_pred_fin_pos:\n",
    "    for i in obj: \n",
    "        test_tuple = tuple([i[0],i[1]])\n",
    "        if test_tuple in y_pred_fin_pos[j].index:\n",
    "            date = convert_to_date(i[2])\n",
    "            y_pred_fin_pos[j].set_value(y_pred_fin_pos[j].loc[[test_tuple]].index,'date',  date)"
   ]
  },
  {
   "cell_type": "code",
   "execution_count": 191,
   "metadata": {},
   "outputs": [],
   "source": [
    "for i in (y_pred_fin_pos):\n",
    "    y_pred_fin_pos[i].sort_values(by=['date'], inplace=True, ascending=False)"
   ]
  },
  {
   "cell_type": "code",
   "execution_count": 192,
   "metadata": {},
   "outputs": [],
   "source": [
    "total = []\n",
    "for i in (y_pred_fin_pos):\n",
    "    top = (y_pred_fin_pos[i].iloc[0])['helpfulness']\n",
    "    total.append(top)"
   ]
  },
  {
   "cell_type": "code",
   "execution_count": 193,
   "metadata": {},
   "outputs": [
    {
     "name": "stdout",
     "output_type": "stream",
     "text": [
      "<class 'list'>\n"
     ]
    }
   ],
   "source": [
    "print(type(total))\n",
    "total_fin = list(map(float, total))"
   ]
  },
  {
   "cell_type": "code",
   "execution_count": 194,
   "metadata": {},
   "outputs": [
    {
     "data": {
      "text/plain": [
       "0.37683664649956783"
      ]
     },
     "execution_count": 194,
     "metadata": {},
     "output_type": "execute_result"
    }
   ],
   "source": [
    "mean(total_fin)"
   ]
  },
  {
   "cell_type": "code",
   "execution_count": null,
   "metadata": {},
   "outputs": [],
   "source": []
  }
 ],
 "metadata": {
  "kernelspec": {
   "display_name": "Python 3",
   "language": "python",
   "name": "python3"
  },
  "language_info": {
   "codemirror_mode": {
    "name": "ipython",
    "version": 3
   },
   "file_extension": ".py",
   "mimetype": "text/x-python",
   "name": "python",
   "nbconvert_exporter": "python",
   "pygments_lexer": "ipython3",
   "version": "3.7.1"
  }
 },
 "nbformat": 4,
 "nbformat_minor": 2
}
